{
  "nbformat": 4,
  "nbformat_minor": 0,
  "metadata": {
    "colab": {
      "name": "Glove_for_bias.ipynb",
      "provenance": [],
      "collapsed_sections": [
        "aQUMLWaDV0A0"
      ],
      "toc_visible": true,
      "include_colab_link": true
    },
    "kernelspec": {
      "name": "python3",
      "display_name": "Python 3"
    }
  },
  "cells": [
    {
      "cell_type": "markdown",
      "metadata": {
        "id": "view-in-github",
        "colab_type": "text"
      },
      "source": [
        "<a href=\"https://colab.research.google.com/github/kaiyuanmifen/BiasProject/blob/dhd/Glove_for_bias.ipynb\" target=\"_parent\"><img src=\"https://colab.research.google.com/assets/colab-badge.svg\" alt=\"Open In Colab\"/></a>"
      ]
    },
    {
      "cell_type": "markdown",
      "metadata": {
        "id": "JwpweOgYGGWm"
      },
      "source": [
        "**[GloVe ](https://nlp.stanford.edu/projects/glove/) (Global Vectors for Word Representation)  in pytorch**"
      ]
    },
    {
      "cell_type": "markdown",
      "metadata": {
        "id": "aQUMLWaDV0A0"
      },
      "source": [
        "# **Theory**"
      ]
    },
    {
      "cell_type": "markdown",
      "metadata": {
        "id": "Xnd2f1bpGxj0"
      },
      "source": [
        "GloVe, coined from Global Vectors, is a model for distributed word representation. The model is an unsupervised learning algorithm for obtaining vector representations for words. The GloVe model learns word vectors by examining word co-occurrences within a text corpus.  \n",
        "\n",
        "Let the matrix of word-word co-occurrence counts be denoted by $X$, whose entries $X_{ij}$ tabulate the number of times word $j$ occurs in the context of word $i$. Let $X_i = \\sum_k X_{ik}$ be the number of times any word appears\n",
        "in the context of word $i$. Finally, let $P_{ij} = X_{ij}/X_i$ be the probability that word $j$ appear in the context of word $i$.\n",
        "\n",
        "The relationship between two words $i$ and $j$ can be examined by studying the ratio of their co-occurrence probabilities with various probe words, $k$. For words $k$ related to $i$ but not $j$, we expect the ratio $P_{ik}/P_{jk}$ will be large. Similarly, for words $k$ related to $j$ but not $i$, the ratio should be small. For words $k$ that are either related to both $i$ and $j$, or to neither, the ratio should be close to one. \n",
        "\n",
        "An example relating to the concepts of thermodinamics is given in the original paper with $i = ice$, $j = steam$ and $k \\in \\{solid, gas, water, fashion\\}$\n",
        "\n",
        "The above argument suggests that the appropriate starting point for word vector learning should be with ratios of co-occurrence probabilities rather than the probabilities themselves. Noting that the ratio $P_{ik}/P_{jk}$ depends on three words $i$, $j$, and $k$, the most general model takes the form $F(w_i, w_j, \\tilde{w}_k) = P_{ik}/P_{jk}$ where $w \\in \\mathbb{R}^d$ are word vectors and $\\tilde{w} \\in \\mathbb{R}^d$ are separate context word vectors.\n",
        "\n",
        "To enforce $F$ to encode the information present the ratio $P_{ik}/P_{jk}$ in the word vector space, the authors restrict $F$\n",
        "to depend only on the difference of the two target words $i$ and $j$, since vector spaces are inherently linear structures.\n",
        "To also avoid $F$ to obfuscate the linear structure we are trying to capture as it transforms vectors into scalars, the authors passed the dot product $(w_i - w_j)^T \\tilde{w}_k$ as an $F$ parameter instead of $w_i - w_j$ and $\\tilde{w}_k$ themselves.\n",
        "\n",
        "$$F((w_i - w_j)^T \\tilde{w}_k) = P_{ik}/P_{jk}$$ $\\text{ then }$ $$F(w_i^T \\tilde{w}_k) = P_{ik} = X_{ik}/X_i \\text{ (1)}$$\n",
        "\n",
        "The authors require that $F$ be a homomorphism between the groups $(\\mathbb{R},+)$ and $(\\mathbb{R}_{>0}, ×)$, i.e.,\n",
        "\n",
        "$$F((w_i - w_j)^T \\tilde{w}_k) = F(w_i^T \\tilde{w}_k - w_j^T \\tilde{w}_k) = \\frac{F(w_i^T \\tilde{w}_k)}{F(w_j^T \\tilde{w}_k)}$$ $\\text{ then }$ $$F = exp \\text{ (2)}$$\n",
        "\n",
        "$$\\text{(1) and (2)} \\Rightarrow w_i^T \\tilde{w}_k = log(P_{ik}) = log(X_{ik}) - log(X_i)$$\n",
        " \n",
        "We will then produce vectors with a soft constraint that for each word pair of word $i$ and word $j$\n",
        "\n",
        "$$w_i^T \\tilde{w}_j + b_i + \\tilde{b}_j = \\log X_{ij}$$\n",
        "\n",
        "where $b_i$ and $\\tilde{b}_j$ are scalar bias terms associated with words $i$ and $j$, respectively. \n",
        "\n",
        "We’ll do this by minimizing an objective function $J$, which evaluates the sum of all squared errors based on the above equation, weighted with a function $f$:\n",
        "\n",
        "$$J=\\sum_{i=1}^{V} \\sum_{j=1}^{V} f(X_{ij}) (w_i^T \\tilde{w}_j + b_i + \\tilde{b}_j - \\log X_{ij})^2$$\n",
        "\n",
        "We choose an $f$ that helps prevents common word pairs (i.e., those with large $X_{ij}$ values) from skewing our objective too much:\n",
        "$$\n",
        "f(X_{ij}) = \\left\\{\n",
        "    \\begin{array}{ll}\n",
        "        \\bigg(\\frac{X_{ij}}{x_{max}}\\bigg)^{\\alpha} & \\mbox{if } X_{ij} \\lt x_{max} \\\\\n",
        "        1 & \\mbox{otherwise}\n",
        "    \\end{array}\n",
        "\\right.\n",
        "$$\n",
        "\n",
        "When we encounter extremely common word pairs (where $X_{ij} \\gt x_{max}$) this function will cut off its normal output and simply return $1$. For all other word pairs, we return some weight in the range $(0,1)$, where the distribution of weights in this range is decided by $\\alpha$.\n",
        "\n",
        "The authors use $x_{max} = 100 \\text{ and } \\alpha = 3/4$"
      ]
    },
    {
      "cell_type": "markdown",
      "metadata": {
        "id": "3OzkJv2p9DNd"
      },
      "source": [
        "Before starting, we advise you to see this [notebook](https://github.com/spro/practical-pytorch/blob/master/glove-word-vectors/glove-word-vectors.ipynb) illustrating the use of pre-trained models with pytorch."
      ]
    },
    {
      "cell_type": "markdown",
      "metadata": {
        "id": "tXB-C-IiV7_d"
      },
      "source": [
        "# **Implementation**"
      ]
    },
    {
      "cell_type": "code",
      "metadata": {
        "id": "L2QQjSFIVB14",
        "colab": {
          "base_uri": "https://localhost:8080/"
        },
        "outputId": "61f76e49-c752-47c2-e108-243782670422"
      },
      "source": [
        "              %matplotlib inline\n",
        "import matplotlib.pyplot as plt\n",
        "\n",
        "import numpy as np\n",
        "from tqdm import tqdm\n",
        "\n",
        "import torch\n",
        "import torch.nn as nn\n",
        "import torch.optim as optim\n",
        "from torch.autograd import Variable\n",
        "\n",
        "from nltk.tokenize import word_tokenize\n",
        "import nltk\n",
        "nltk.download('punkt')"
      ],
      "execution_count": null,
      "outputs": [
        {
          "output_type": "stream",
          "text": [
            "[nltk_data] Downloading package punkt to /root/nltk_data...\n",
            "[nltk_data]   Unzipping tokenizers/punkt.zip.\n"
          ],
          "name": "stdout"
        },
        {
          "output_type": "execute_result",
          "data": {
            "text/plain": [
              "True"
            ]
          },
          "metadata": {
            "tags": []
          },
          "execution_count": 1
        }
      ]
    },
    {
      "cell_type": "markdown",
      "metadata": {
        "id": "I51AyQ2TPWl8"
      },
      "source": [
        "Before we train the actual model, we need to construct a co-occurrence matrix $X$, where a cell $X_{ij}$ is a “strength” which represents how often the word $i$ appears in the context of the word $j$. We run through our corpus just once to build the matrix $X$, and from then on use this co-occurrence data in place of the actual corpus. We will construct our model based only on the values collected in $X$."
      ]
    },
    {
      "cell_type": "code",
      "metadata": {
        "id": "GJmoIlSRacCj"
      },
      "source": [
        "def build_cooccur(corpus, vocab = None, context_size = 10, min_count = None) :\n",
        "   \n",
        "    # Create tokenized text (list) and vocabulary (set of unique words)\n",
        "    token_text = word_tokenize(corpus)\n",
        "    len_token_text = len(token_text)\n",
        "\n",
        "    print(\"# of tokens: \", len(token_text), '\\n', token_text[:10])\n",
        "\n",
        "    # set of vocab items\n",
        "    if vocab is None :\n",
        "        vocab = set(token_text)\n",
        "\n",
        "    vocab_size = len(vocab)\n",
        "    print(\"size of vocabulary: \", vocab_size)\n",
        "\n",
        "    # dictionaries mapping from word to index and vica versa\n",
        "    word_to_ix = {word: i for i, word in enumerate(vocab)}\n",
        "    ix_to_word = {i: word for i, word in enumerate(vocab)}\n",
        "\n",
        "    # Construct co-occurence matrix\n",
        "    co_occ_mat = np.zeros((vocab_size, vocab_size))\n",
        "    for i in range(len_token_text):\n",
        "        ix = word_to_ix[token_text[i]]\n",
        "        for dist in range(1, context_size + 1):\n",
        "            if i - dist > 0:\n",
        "                left_ix = word_to_ix[token_text[i - dist]]\n",
        "                co_occ_mat[ix, left_ix] += 1.0 / dist\n",
        "            if i + dist < len_token_text:\n",
        "                right_ix = word_to_ix[token_text[i + dist]]\n",
        "                co_occ_mat[ix, right_ix] += 1.0 / dist\n",
        "\n",
        "    print(\"shape of co-occurrence matrix:\", co_occ_mat.shape)\n",
        "\n",
        "    return co_occ_mat, vocab, len_token_text"
      ],
      "execution_count": null,
      "outputs": []
    },
    {
      "cell_type": "markdown",
      "metadata": {
        "id": "gFYgOZu5uZo-"
      },
      "source": [
        "Once we’ve prepared $X$, our task is to decide vector values in continuous space for each word we observe in the corpus. Intuitively speaking, we want to build word vectors that retain some useful information about how every pair of words $i$ and $j$ co-occur."
      ]
    },
    {
      "cell_type": "code",
      "metadata": {
        "id": "007_8IZzu2Da"
      },
      "source": [
        "class Glove(nn.Module):\n",
        "\n",
        "    def __init__(self, vocab : set, len_token_text : int, comat, embedding_size, x_max, alpha, batch_size):\n",
        "        super(Glove, self).__init__()\n",
        "        \n",
        "        self.len_token_text = len_token_text\n",
        "        unk = \"unk\"\n",
        "        vocab = {unk}.union(vocab)\n",
        "        self.vocab = vocab\n",
        "        vocab_size = len(vocab)\n",
        "        self.vocab_size = vocab_size\n",
        "        self.word_to_ix = {word: i for i, word in enumerate(vocab)}\n",
        "        self.ix_to_word = {i: word for i, word in enumerate(vocab)}\n",
        "        self.unk_id = self.word_to_ix[\"unk\"]\n",
        "\n",
        "        # embedding matrices\n",
        "        self.embedding_V = nn.Embedding(vocab_size, embedding_size) # embedding matrix of center words\n",
        "        self.embedding_U = nn.Embedding(vocab_size, embedding_size) # embedding matrix of context words\n",
        "\n",
        "        # biases\n",
        "        self.v_bias = nn.Embedding(vocab_size, 1)\n",
        "        self.u_bias = nn.Embedding(vocab_size, 1)\n",
        "        \n",
        "        # initialize all params\n",
        "        for params in self.parameters():\n",
        "            nn.init.uniform_(params, a = -0.5, b = 0.5)\n",
        "            \n",
        "        #hyperparams\n",
        "        self.x_max = x_max\n",
        "        self.alpha = alpha\n",
        "        self.comat = comat\n",
        "        # Non-zero co-occurrences\n",
        "        # https://docs.scipy.org/doc/numpy-1.15.0/reference/generated/numpy.nonzero.html\n",
        "        # returns a 2-D array, with a row for each non-zero element            \n",
        "        self.co_occs = np.transpose(np.nonzero(comat))\n",
        "        #print(\"non-zero co-occurrences:\\n\", self.co_occs)\n",
        "\n",
        "        self.batch_size = batch_size\n",
        "    \n",
        "    def forward(self, center_word_lookup, context_word_lookup):\n",
        "        # indexing into the embedding matrices\n",
        "        center_embed = self.embedding_V(center_word_lookup)\n",
        "        target_embed = self.embedding_U(context_word_lookup)\n",
        "\n",
        "        center_bias = self.v_bias(center_word_lookup).squeeze(1)\n",
        "        target_bias = self.u_bias(context_word_lookup).squeeze(1)\n",
        "\n",
        "        # elements of the co-occurence matrix\n",
        "        co_occurrences = torch.tensor([self.comat[center_word_lookup[i].item(), context_word_lookup[i].item()]\n",
        "                                       for i in range(self.batch_size)])\n",
        "        \n",
        "        # weight_fn applied to non-zero co-occurrences\n",
        "        weights = torch.tensor([self.weight_fn(var) for var in co_occurrences])\n",
        "\n",
        "        # the loss as described in the paper\n",
        "        loss = torch.sum(torch.pow((torch.sum(center_embed * target_embed, dim=1)\n",
        "            + center_bias + target_bias) - torch.log(co_occurrences), 2) * weights)\n",
        "        \n",
        "        return loss\n",
        "        \n",
        "    def weight_fn(self, x):\n",
        "        # the proposed weighting fn\n",
        "        if x < self.x_max:\n",
        "            return (x / self.x_max) ** self.alpha\n",
        "        return 1\n",
        "        \n",
        "    def embeddings(self):\n",
        "        # \"we choose to use the sum W + W_tilde as our word vectors\"\n",
        "        return self.embedding_V.weight.data + self.embedding_U.weight.data\n",
        "\n",
        "    # Batch sampling function\n",
        "    def gen_batch(self, device):\n",
        "        \"\"\"\n",
        "        picks random indices for lookup in the embedding matrix\n",
        "        \"stochastically sampling non-zero elements from X [ie. the co-occurrence matrix]\"\n",
        "        \"\"\"\t\n",
        "        sample = np.random.choice(np.arange(len(self.co_occs)), size = self.batch_size, replace=False)\n",
        "        v_vecs_ix, u_vecs_ix = [], []\n",
        "        \n",
        "        for chosen in sample:\n",
        "            ind = tuple(self.co_occs[chosen])     \n",
        "            lookup_ix_v = ind[0]\n",
        "            lookup_ix_u = ind[1]\n",
        "            \n",
        "            v_vecs_ix.append(lookup_ix_v)\n",
        "            u_vecs_ix.append(lookup_ix_u) \n",
        "            \n",
        "        return torch.tensor(v_vecs_ix).to(device), torch.tensor(u_vecs_ix).to(device)\n",
        "\n",
        "    def train(self, num_epochs, optimizer, device, epoch_to_stop):\n",
        "        \"\"\"trains the model over num_epochs epochs, with the optimizer specified in the parameters.\"\"\"\n",
        "        losses = []\n",
        "        stop = False\n",
        "        num_batches = int(self.len_token_text/self.batch_size)\n",
        "        for epoch in range(num_epochs):\n",
        "            if stop:\n",
        "              break\n",
        "            total_loss = 0\n",
        "            print(\"Beginning epoch %d\" %epoch)\n",
        "            for batch in tqdm(range(num_batches)):\n",
        "                self.zero_grad()\n",
        "                data = self.gen_batch(device)\n",
        "                loss = self.__call__(*data)\n",
        "                loss.backward()\n",
        "                optimizer.step()\n",
        "                total_loss += loss.item()\n",
        "            losses.append(total_loss)\n",
        "            #losses.append(2)\n",
        "            if epoch > epoch_to_stop:\n",
        "                i = epoch\n",
        "                flag = False\n",
        "                while ((not flag) and i>epoch-epoch_to_stop):\n",
        "                  if losses[i]-losses[i-1]<1:\n",
        "                    flag = True\n",
        "                  i -= 1\n",
        "                stop = not flag\n",
        "            print()\n",
        "            print('Epoch : %d, mean loss : %.02f' % (epoch, np.mean(losses)))\n",
        "        return losses \n",
        "\n",
        "    def predict(self, sentence) :\n",
        "        \"\"\"\n",
        "        returns the embedding that belongs to the given sentence (str)\n",
        "        \"\"\"\n",
        "        sentence = sentence.lower()\n",
        "        tokens = word_tokenize(sentence)\n",
        "        token_ids = [self.word_to_ix.get(word, self.unk_id) for word in tokens]\n",
        "        return self.embeddings()[token_ids]"
      ],
      "execution_count": null,
      "outputs": []
    },
    {
      "cell_type": "markdown",
      "metadata": {
        "id": "z9B0jk7YiiNs"
      },
      "source": [
        "**Useful functions**"
      ]
    },
    {
      "cell_type": "code",
      "metadata": {
        "id": "OYcxtgF_ia8Y"
      },
      "source": [
        "# Plot loss fn\n",
        "def plot_loss_fn(losses, title):\n",
        "    plt.plot(range(len(losses)), losses)\n",
        "    plt.xlabel('Epoch')\n",
        "    plt.ylabel('Loss')\n",
        "    plt.title(title)\n",
        "    plt.figure()\n",
        "\n",
        "def get_word(model, word):\n",
        "    \"\"\"\n",
        "    returns the embedding that belongs to the given word (str)\n",
        "    \"\"\"\n",
        "    return model.predict(word).squeeze()\n",
        "\n",
        "def closest(model, vec, n = 10):\n",
        "    \"\"\"\n",
        "    finds the closest words for a given vector\n",
        "    \"\"\"\n",
        "    all_dists = [(w, torch.dist(vec, get_word(model, w))) for w in model.word_to_ix]\n",
        "    return sorted(all_dists, key=lambda t: t[1])[:n]\n",
        "\n",
        "# some helper fn\n",
        "def print_tuples(tuples):\n",
        "    for tuple in tuples:\n",
        "        print('(%.4f) %s' % (tuple[1], tuple[0]))\n",
        "\n",
        "# word analogies in the form w1 : w2 :: w3 : ?\n",
        "def analogy(model, w1, w2, w3, n=5, filter_given=True):\n",
        "    print('\\n[%s : %s :: %s : ?]' % (w1, w2, w3))\n",
        "   \n",
        "    # w2 - w1 + w3 = w4\n",
        "    closest_words = closest(model, get_word(model, w2) - get_word(model, w1) + get_word(model, w3))\n",
        "    \n",
        "    # Optionally filter out given words\n",
        "    if filter_given:\n",
        "        closest_words = [t for t in closest_words if t[0] not in [w1, w2, w3]]\n",
        "        \n",
        "    print_tuples(closest_words[:n])"
      ],
      "execution_count": null,
      "outputs": []
    },
    {
      "cell_type": "markdown",
      "metadata": {
        "id": "VqBDLwRUiwpU"
      },
      "source": [
        "## **Experiments**"
      ]
    },
    {
      "cell_type": "code",
      "metadata": {
        "colab": {
          "base_uri": "https://localhost:8080/"
        },
        "id": "Ijdh0cp3q3d5",
        "outputId": "eb0d4ec5-849b-4a89-a82b-668148041bcf"
      },
      "source": [
        "from google.colab import drive\n",
        "drive.mount('/content/drive')"
      ],
      "execution_count": null,
      "outputs": [
        {
          "output_type": "stream",
          "text": [
            "Mounted at /content/drive\n"
          ],
          "name": "stdout"
        }
      ]
    },
    {
      "cell_type": "markdown",
      "metadata": {
        "id": "q2aIvHnxksHy"
      },
      "source": [
        "**Data**"
      ]
    },
    {
      "cell_type": "code",
      "metadata": {
        "id": "YbPsBlTmB_ku"
      },
      "source": [
        "#txt_file\n",
        "txt_file = \"/content/drive/MyDrive/Double-Hard Debias/Data/bias_corpus3v1.txt\"\n",
        "\n",
        "# Open and read in text\n",
        "with open(txt_file, 'r') as f :\n",
        "    corpus = f.read().lower()"
      ],
      "execution_count": null,
      "outputs": []
    },
    {
      "cell_type": "code",
      "metadata": {
        "colab": {
          "base_uri": "https://localhost:8080/",
          "height": 35
        },
        "id": "FZyJKbILmW84",
        "outputId": "598c5b26-a01f-447e-bdb9-a44735040bb7"
      },
      "source": [
        "tokens = [elmt for elmt in corpus.strip().split(\"\\n\")]\n",
        "tokens[1]"
      ],
      "execution_count": null,
      "outputs": [
        {
          "output_type": "execute_result",
          "data": {
            "application/vnd.google.colaboratory.intrinsic+json": {
              "type": "string"
            },
            "text/plain": [
              "\"greatest threat to the black famiky is the white liberal' nonbiased\""
            ]
          },
          "metadata": {
            "tags": []
          },
          "execution_count": 9
        }
      ]
    },
    {
      "cell_type": "code",
      "metadata": {
        "id": "usHXdfZgjHW6",
        "colab": {
          "base_uri": "https://localhost:8080/"
        },
        "outputId": "ea0aa413-72b5-40d7-d13f-89c7626ba5fe"
      },
      "source": [
        "print(len(tokens))"
      ],
      "execution_count": null,
      "outputs": [
        {
          "output_type": "stream",
          "text": [
            "39409\n"
          ],
          "name": "stdout"
        }
      ]
    },
    {
      "cell_type": "code",
      "metadata": {
        "colab": {
          "base_uri": "https://localhost:8080/"
        },
        "id": "HS8apB49kJKX",
        "outputId": "c26c4744-c836-43a5-a16e-add8820a0e14"
      },
      "source": [
        "# \"Unless otherwise noted, we use a context of ten words to the left and ten words to the right.\"\n",
        "CONTEXT_SIZE = 6\n",
        "\n",
        "co_occ_mat, vocab, len_token_text = build_cooccur(corpus, context_size = CONTEXT_SIZE)"
      ],
      "execution_count": null,
      "outputs": [
        {
          "output_type": "stream",
          "text": [
            "# of tokens:  895044 \n",
            " ['democrats', 'needed', 'someone', 'like', 'obama', 'half', 'white', 'and', 'half', 'black']\n",
            "size of vocabulary:  27753\n",
            "shape of co-occurrence matrix: (27753, 27753)\n"
          ],
          "name": "stdout"
        }
      ]
    },
    {
      "cell_type": "code",
      "metadata": {
        "id": "oNIzvUJZlPUa"
      },
      "source": [
        "EMBEDDING_SIZE = 300\n",
        "\n",
        "# \"For all our experiments, we set x_max = 100, alpha = 3/4\"\n",
        "X_MAX = 100\n",
        "ALPHA = 0.75\n",
        "\n",
        "BATCH_SIZE = 4096\n",
        "device = torch.device('cuda' if torch.cuda.is_available() else 'cpu')\n",
        "\n",
        "model = Glove(vocab, len_token_text, comat = co_occ_mat, embedding_size = EMBEDDING_SIZE, x_max = X_MAX, alpha = ALPHA, batch_size = BATCH_SIZE)\n",
        "model = model.to(device)"
      ],
      "execution_count": null,
      "outputs": []
    },
    {
      "cell_type": "code",
      "metadata": {
        "id": "6FM9DYQfv5Sq"
      },
      "source": [
        "# \"[we] train the model using AdaGrad, [...] with initial learning rate of 0.05\"\n",
        "LEARNING_RATE = 0.05\n",
        "optimizer = optim.Adagrad(model.parameters(), lr = LEARNING_RATE)"
      ],
      "execution_count": null,
      "outputs": []
    },
    {
      "cell_type": "code",
      "metadata": {
        "colab": {
          "base_uri": "https://localhost:8080/",
          "height": 1000
        },
        "id": "uD5jYo5AfG5T",
        "outputId": "f389dc8c-f036-41df-f70c-770ef15f10f5"
      },
      "source": [
        "# \"we run 50 iterations for vectors smaller than 300 dimensions [...]\"\n",
        "EPOCHS = 500\n",
        "losses = model.train(num_epochs = EPOCHS, optimizer = optimizer, device=device, epoch_to_stop=2)"
      ],
      "execution_count": null,
      "outputs": [
        {
          "output_type": "stream",
          "text": [
            "\r  0%|          | 0/218 [00:00<?, ?it/s]"
          ],
          "name": "stderr"
        },
        {
          "output_type": "stream",
          "text": [
            "Beginning epoch 0\n"
          ],
          "name": "stdout"
        },
        {
          "output_type": "stream",
          "text": [
            "100%|██████████| 218/218 [01:29<00:00,  2.44it/s]\n",
            "  0%|          | 0/218 [00:00<?, ?it/s]"
          ],
          "name": "stderr"
        },
        {
          "output_type": "stream",
          "text": [
            "\n",
            "Epoch : 0, mean loss : 125051.39\n",
            "Beginning epoch 1\n"
          ],
          "name": "stdout"
        },
        {
          "output_type": "stream",
          "text": [
            "100%|██████████| 218/218 [01:26<00:00,  2.53it/s]\n",
            "  0%|          | 0/218 [00:00<?, ?it/s]"
          ],
          "name": "stderr"
        },
        {
          "output_type": "stream",
          "text": [
            "\n",
            "Epoch : 1, mean loss : 95844.68\n",
            "Beginning epoch 2\n"
          ],
          "name": "stdout"
        },
        {
          "output_type": "stream",
          "text": [
            "100%|██████████| 218/218 [01:24<00:00,  2.59it/s]\n",
            "  0%|          | 0/218 [00:00<?, ?it/s]"
          ],
          "name": "stderr"
        },
        {
          "output_type": "stream",
          "text": [
            "\n",
            "Epoch : 2, mean loss : 79308.52\n",
            "Beginning epoch 3\n"
          ],
          "name": "stdout"
        },
        {
          "output_type": "stream",
          "text": [
            "100%|██████████| 218/218 [01:22<00:00,  2.64it/s]\n",
            "  0%|          | 0/218 [00:00<?, ?it/s]"
          ],
          "name": "stderr"
        },
        {
          "output_type": "stream",
          "text": [
            "\n",
            "Epoch : 3, mean loss : 68511.25\n",
            "Beginning epoch 4\n"
          ],
          "name": "stdout"
        },
        {
          "output_type": "stream",
          "text": [
            "100%|██████████| 218/218 [01:22<00:00,  2.63it/s]\n",
            "  0%|          | 0/218 [00:00<?, ?it/s]"
          ],
          "name": "stderr"
        },
        {
          "output_type": "stream",
          "text": [
            "\n",
            "Epoch : 4, mean loss : 60824.21\n",
            "Beginning epoch 5\n"
          ],
          "name": "stdout"
        },
        {
          "output_type": "stream",
          "text": [
            "100%|██████████| 218/218 [01:24<00:00,  2.58it/s]\n",
            "  0%|          | 0/218 [00:00<?, ?it/s]"
          ],
          "name": "stderr"
        },
        {
          "output_type": "stream",
          "text": [
            "\n",
            "Epoch : 5, mean loss : 54988.67\n",
            "Beginning epoch 6\n"
          ],
          "name": "stdout"
        },
        {
          "output_type": "stream",
          "text": [
            "100%|██████████| 218/218 [01:22<00:00,  2.63it/s]\n",
            "  0%|          | 0/218 [00:00<?, ?it/s]"
          ],
          "name": "stderr"
        },
        {
          "output_type": "stream",
          "text": [
            "\n",
            "Epoch : 6, mean loss : 50358.93\n",
            "Beginning epoch 7\n"
          ],
          "name": "stdout"
        },
        {
          "output_type": "stream",
          "text": [
            "100%|██████████| 218/218 [01:22<00:00,  2.65it/s]\n",
            "  0%|          | 0/218 [00:00<?, ?it/s]"
          ],
          "name": "stderr"
        },
        {
          "output_type": "stream",
          "text": [
            "\n",
            "Epoch : 7, mean loss : 46599.52\n",
            "Beginning epoch 8\n"
          ],
          "name": "stdout"
        },
        {
          "output_type": "stream",
          "text": [
            "100%|██████████| 218/218 [01:21<00:00,  2.67it/s]\n",
            "  0%|          | 0/218 [00:00<?, ?it/s]"
          ],
          "name": "stderr"
        },
        {
          "output_type": "stream",
          "text": [
            "\n",
            "Epoch : 8, mean loss : 43468.08\n",
            "Beginning epoch 9\n"
          ],
          "name": "stdout"
        },
        {
          "output_type": "stream",
          "text": [
            "100%|██████████| 218/218 [01:21<00:00,  2.68it/s]\n",
            "  0%|          | 0/218 [00:00<?, ?it/s]"
          ],
          "name": "stderr"
        },
        {
          "output_type": "stream",
          "text": [
            "\n",
            "Epoch : 9, mean loss : 40798.63\n",
            "Beginning epoch 10\n"
          ],
          "name": "stdout"
        },
        {
          "output_type": "stream",
          "text": [
            "100%|██████████| 218/218 [01:21<00:00,  2.66it/s]\n",
            "  0%|          | 0/218 [00:00<?, ?it/s]"
          ],
          "name": "stderr"
        },
        {
          "output_type": "stream",
          "text": [
            "\n",
            "Epoch : 10, mean loss : 38500.03\n",
            "Beginning epoch 11\n"
          ],
          "name": "stdout"
        },
        {
          "output_type": "stream",
          "text": [
            "100%|██████████| 218/218 [01:21<00:00,  2.67it/s]\n",
            "  0%|          | 0/218 [00:00<?, ?it/s]"
          ],
          "name": "stderr"
        },
        {
          "output_type": "stream",
          "text": [
            "\n",
            "Epoch : 11, mean loss : 36490.71\n",
            "Beginning epoch 12\n"
          ],
          "name": "stdout"
        },
        {
          "output_type": "stream",
          "text": [
            "100%|██████████| 218/218 [01:20<00:00,  2.71it/s]\n",
            "  0%|          | 0/218 [00:00<?, ?it/s]"
          ],
          "name": "stderr"
        },
        {
          "output_type": "stream",
          "text": [
            "\n",
            "Epoch : 12, mean loss : 34720.13\n",
            "Beginning epoch 13\n"
          ],
          "name": "stdout"
        },
        {
          "output_type": "stream",
          "text": [
            "100%|██████████| 218/218 [01:19<00:00,  2.73it/s]\n",
            "  0%|          | 0/218 [00:00<?, ?it/s]"
          ],
          "name": "stderr"
        },
        {
          "output_type": "stream",
          "text": [
            "\n",
            "Epoch : 13, mean loss : 33151.80\n",
            "Beginning epoch 14\n"
          ],
          "name": "stdout"
        },
        {
          "output_type": "stream",
          "text": [
            "100%|██████████| 218/218 [01:19<00:00,  2.74it/s]\n",
            "  0%|          | 0/218 [00:00<?, ?it/s]"
          ],
          "name": "stderr"
        },
        {
          "output_type": "stream",
          "text": [
            "\n",
            "Epoch : 14, mean loss : 31737.39\n",
            "Beginning epoch 15\n"
          ],
          "name": "stdout"
        },
        {
          "output_type": "stream",
          "text": [
            "100%|██████████| 218/218 [01:20<00:00,  2.70it/s]\n",
            "  0%|          | 0/218 [00:00<?, ?it/s]"
          ],
          "name": "stderr"
        },
        {
          "output_type": "stream",
          "text": [
            "\n",
            "Epoch : 15, mean loss : 30465.78\n",
            "Beginning epoch 16\n"
          ],
          "name": "stdout"
        },
        {
          "output_type": "stream",
          "text": [
            "100%|██████████| 218/218 [01:20<00:00,  2.72it/s]\n",
            "  0%|          | 0/218 [00:00<?, ?it/s]"
          ],
          "name": "stderr"
        },
        {
          "output_type": "stream",
          "text": [
            "\n",
            "Epoch : 16, mean loss : 29309.19\n",
            "Beginning epoch 17\n"
          ],
          "name": "stdout"
        },
        {
          "output_type": "stream",
          "text": [
            "100%|██████████| 218/218 [01:20<00:00,  2.71it/s]\n",
            "  0%|          | 0/218 [00:00<?, ?it/s]"
          ],
          "name": "stderr"
        },
        {
          "output_type": "stream",
          "text": [
            "\n",
            "Epoch : 17, mean loss : 28257.17\n",
            "Beginning epoch 18\n"
          ],
          "name": "stdout"
        },
        {
          "output_type": "stream",
          "text": [
            "100%|██████████| 218/218 [01:21<00:00,  2.69it/s]\n",
            "  0%|          | 0/218 [00:00<?, ?it/s]"
          ],
          "name": "stderr"
        },
        {
          "output_type": "stream",
          "text": [
            "\n",
            "Epoch : 18, mean loss : 27292.29\n",
            "Beginning epoch 19\n"
          ],
          "name": "stdout"
        },
        {
          "output_type": "stream",
          "text": [
            "100%|██████████| 218/218 [01:20<00:00,  2.71it/s]\n",
            "  0%|          | 0/218 [00:00<?, ?it/s]"
          ],
          "name": "stderr"
        },
        {
          "output_type": "stream",
          "text": [
            "\n",
            "Epoch : 19, mean loss : 26403.79\n",
            "Beginning epoch 20\n"
          ],
          "name": "stdout"
        },
        {
          "output_type": "stream",
          "text": [
            "100%|██████████| 218/218 [01:21<00:00,  2.67it/s]\n",
            "  0%|          | 0/218 [00:00<?, ?it/s]"
          ],
          "name": "stderr"
        },
        {
          "output_type": "stream",
          "text": [
            "\n",
            "Epoch : 20, mean loss : 25583.72\n",
            "Beginning epoch 21\n"
          ],
          "name": "stdout"
        },
        {
          "output_type": "stream",
          "text": [
            "100%|██████████| 218/218 [01:21<00:00,  2.68it/s]\n",
            "  0%|          | 0/218 [00:00<?, ?it/s]"
          ],
          "name": "stderr"
        },
        {
          "output_type": "stream",
          "text": [
            "\n",
            "Epoch : 21, mean loss : 24823.22\n",
            "Beginning epoch 22\n"
          ],
          "name": "stdout"
        },
        {
          "output_type": "stream",
          "text": [
            "100%|██████████| 218/218 [01:21<00:00,  2.67it/s]\n",
            "  0%|          | 0/218 [00:00<?, ?it/s]"
          ],
          "name": "stderr"
        },
        {
          "output_type": "stream",
          "text": [
            "\n",
            "Epoch : 22, mean loss : 24118.91\n",
            "Beginning epoch 23\n"
          ],
          "name": "stdout"
        },
        {
          "output_type": "stream",
          "text": [
            "100%|██████████| 218/218 [01:20<00:00,  2.69it/s]\n",
            "  0%|          | 0/218 [00:00<?, ?it/s]"
          ],
          "name": "stderr"
        },
        {
          "output_type": "stream",
          "text": [
            "\n",
            "Epoch : 23, mean loss : 23457.09\n",
            "Beginning epoch 24\n"
          ],
          "name": "stdout"
        },
        {
          "output_type": "stream",
          "text": [
            "100%|██████████| 218/218 [01:20<00:00,  2.69it/s]\n",
            "  0%|          | 0/218 [00:00<?, ?it/s]"
          ],
          "name": "stderr"
        },
        {
          "output_type": "stream",
          "text": [
            "\n",
            "Epoch : 24, mean loss : 22839.39\n",
            "Beginning epoch 25\n"
          ],
          "name": "stdout"
        },
        {
          "output_type": "stream",
          "text": [
            "100%|██████████| 218/218 [01:21<00:00,  2.69it/s]\n",
            "  0%|          | 0/218 [00:00<?, ?it/s]"
          ],
          "name": "stderr"
        },
        {
          "output_type": "stream",
          "text": [
            "\n",
            "Epoch : 25, mean loss : 22258.59\n",
            "Beginning epoch 26\n"
          ],
          "name": "stdout"
        },
        {
          "output_type": "stream",
          "text": [
            "100%|██████████| 218/218 [01:20<00:00,  2.70it/s]\n",
            "  0%|          | 0/218 [00:00<?, ?it/s]"
          ],
          "name": "stderr"
        },
        {
          "output_type": "stream",
          "text": [
            "\n",
            "Epoch : 26, mean loss : 21712.68\n",
            "Beginning epoch 27\n"
          ],
          "name": "stdout"
        },
        {
          "output_type": "stream",
          "text": [
            "100%|██████████| 218/218 [01:21<00:00,  2.68it/s]\n",
            "  0%|          | 0/218 [00:00<?, ?it/s]"
          ],
          "name": "stderr"
        },
        {
          "output_type": "stream",
          "text": [
            "\n",
            "Epoch : 27, mean loss : 21198.25\n",
            "Beginning epoch 28\n"
          ],
          "name": "stdout"
        },
        {
          "output_type": "stream",
          "text": [
            "100%|██████████| 218/218 [01:21<00:00,  2.68it/s]\n",
            "  0%|          | 0/218 [00:00<?, ?it/s]"
          ],
          "name": "stderr"
        },
        {
          "output_type": "stream",
          "text": [
            "\n",
            "Epoch : 28, mean loss : 20713.35\n",
            "Beginning epoch 29\n"
          ],
          "name": "stdout"
        },
        {
          "output_type": "stream",
          "text": [
            "100%|██████████| 218/218 [01:21<00:00,  2.69it/s]\n",
            "  0%|          | 0/218 [00:00<?, ?it/s]"
          ],
          "name": "stderr"
        },
        {
          "output_type": "stream",
          "text": [
            "\n",
            "Epoch : 29, mean loss : 20254.27\n",
            "Beginning epoch 30\n"
          ],
          "name": "stdout"
        },
        {
          "output_type": "stream",
          "text": [
            "100%|██████████| 218/218 [01:21<00:00,  2.68it/s]\n",
            "  0%|          | 0/218 [00:00<?, ?it/s]"
          ],
          "name": "stderr"
        },
        {
          "output_type": "stream",
          "text": [
            "\n",
            "Epoch : 30, mean loss : 19817.86\n",
            "Beginning epoch 31\n"
          ],
          "name": "stdout"
        },
        {
          "output_type": "stream",
          "text": [
            "100%|██████████| 218/218 [01:21<00:00,  2.68it/s]\n",
            "  0%|          | 0/218 [00:00<?, ?it/s]"
          ],
          "name": "stderr"
        },
        {
          "output_type": "stream",
          "text": [
            "\n",
            "Epoch : 31, mean loss : 19403.37\n",
            "Beginning epoch 32\n"
          ],
          "name": "stdout"
        },
        {
          "output_type": "stream",
          "text": [
            "100%|██████████| 218/218 [01:20<00:00,  2.70it/s]\n",
            "  0%|          | 0/218 [00:00<?, ?it/s]"
          ],
          "name": "stderr"
        },
        {
          "output_type": "stream",
          "text": [
            "\n",
            "Epoch : 32, mean loss : 19010.51\n",
            "Beginning epoch 33\n"
          ],
          "name": "stdout"
        },
        {
          "output_type": "stream",
          "text": [
            "100%|██████████| 218/218 [01:21<00:00,  2.69it/s]\n",
            "  0%|          | 0/218 [00:00<?, ?it/s]"
          ],
          "name": "stderr"
        },
        {
          "output_type": "stream",
          "text": [
            "\n",
            "Epoch : 33, mean loss : 18636.07\n",
            "Beginning epoch 34\n"
          ],
          "name": "stdout"
        },
        {
          "output_type": "stream",
          "text": [
            "100%|██████████| 218/218 [01:21<00:00,  2.67it/s]\n",
            "  0%|          | 0/218 [00:00<?, ?it/s]"
          ],
          "name": "stderr"
        },
        {
          "output_type": "stream",
          "text": [
            "\n",
            "Epoch : 34, mean loss : 18279.24\n",
            "Beginning epoch 35\n"
          ],
          "name": "stdout"
        },
        {
          "output_type": "stream",
          "text": [
            "100%|██████████| 218/218 [01:21<00:00,  2.67it/s]\n",
            "  0%|          | 0/218 [00:00<?, ?it/s]"
          ],
          "name": "stderr"
        },
        {
          "output_type": "stream",
          "text": [
            "\n",
            "Epoch : 35, mean loss : 17938.72\n",
            "Beginning epoch 36\n"
          ],
          "name": "stdout"
        },
        {
          "output_type": "stream",
          "text": [
            "100%|██████████| 218/218 [01:20<00:00,  2.70it/s]\n",
            "  0%|          | 0/218 [00:00<?, ?it/s]"
          ],
          "name": "stderr"
        },
        {
          "output_type": "stream",
          "text": [
            "\n",
            "Epoch : 36, mean loss : 17613.05\n",
            "Beginning epoch 37\n"
          ],
          "name": "stdout"
        },
        {
          "output_type": "stream",
          "text": [
            "100%|██████████| 218/218 [01:20<00:00,  2.71it/s]\n",
            "  0%|          | 0/218 [00:00<?, ?it/s]"
          ],
          "name": "stderr"
        },
        {
          "output_type": "stream",
          "text": [
            "\n",
            "Epoch : 37, mean loss : 17301.53\n",
            "Beginning epoch 38\n"
          ],
          "name": "stdout"
        },
        {
          "output_type": "stream",
          "text": [
            "100%|██████████| 218/218 [01:20<00:00,  2.71it/s]\n",
            "  0%|          | 0/218 [00:00<?, ?it/s]"
          ],
          "name": "stderr"
        },
        {
          "output_type": "stream",
          "text": [
            "\n",
            "Epoch : 38, mean loss : 17002.92\n",
            "Beginning epoch 39\n"
          ],
          "name": "stdout"
        },
        {
          "output_type": "stream",
          "text": [
            "100%|██████████| 218/218 [01:20<00:00,  2.71it/s]\n",
            "  0%|          | 0/218 [00:00<?, ?it/s]"
          ],
          "name": "stderr"
        },
        {
          "output_type": "stream",
          "text": [
            "\n",
            "Epoch : 39, mean loss : 16715.87\n",
            "Beginning epoch 40\n"
          ],
          "name": "stdout"
        },
        {
          "output_type": "stream",
          "text": [
            "100%|██████████| 218/218 [01:20<00:00,  2.72it/s]\n",
            "  0%|          | 0/218 [00:00<?, ?it/s]"
          ],
          "name": "stderr"
        },
        {
          "output_type": "stream",
          "text": [
            "\n",
            "Epoch : 40, mean loss : 16440.25\n",
            "Beginning epoch 41\n"
          ],
          "name": "stdout"
        },
        {
          "output_type": "stream",
          "text": [
            "100%|██████████| 218/218 [01:19<00:00,  2.73it/s]\n",
            "  0%|          | 0/218 [00:00<?, ?it/s]"
          ],
          "name": "stderr"
        },
        {
          "output_type": "stream",
          "text": [
            "\n",
            "Epoch : 41, mean loss : 16175.61\n",
            "Beginning epoch 42\n"
          ],
          "name": "stdout"
        },
        {
          "output_type": "stream",
          "text": [
            "100%|██████████| 218/218 [01:20<00:00,  2.69it/s]\n",
            "  0%|          | 0/218 [00:00<?, ?it/s]"
          ],
          "name": "stderr"
        },
        {
          "output_type": "stream",
          "text": [
            "\n",
            "Epoch : 42, mean loss : 15921.47\n",
            "Beginning epoch 43\n"
          ],
          "name": "stdout"
        },
        {
          "output_type": "stream",
          "text": [
            "100%|██████████| 218/218 [01:21<00:00,  2.69it/s]\n",
            "  0%|          | 0/218 [00:00<?, ?it/s]"
          ],
          "name": "stderr"
        },
        {
          "output_type": "stream",
          "text": [
            "\n",
            "Epoch : 43, mean loss : 15676.54\n",
            "Beginning epoch 44\n"
          ],
          "name": "stdout"
        },
        {
          "output_type": "stream",
          "text": [
            "100%|██████████| 218/218 [01:20<00:00,  2.71it/s]\n",
            "  0%|          | 0/218 [00:00<?, ?it/s]"
          ],
          "name": "stderr"
        },
        {
          "output_type": "stream",
          "text": [
            "\n",
            "Epoch : 44, mean loss : 15439.90\n",
            "Beginning epoch 45\n"
          ],
          "name": "stdout"
        },
        {
          "output_type": "stream",
          "text": [
            "100%|██████████| 218/218 [01:20<00:00,  2.72it/s]\n",
            "  0%|          | 0/218 [00:00<?, ?it/s]"
          ],
          "name": "stderr"
        },
        {
          "output_type": "stream",
          "text": [
            "\n",
            "Epoch : 45, mean loss : 15211.70\n",
            "Beginning epoch 46\n"
          ],
          "name": "stdout"
        },
        {
          "output_type": "stream",
          "text": [
            "100%|██████████| 218/218 [01:20<00:00,  2.69it/s]\n",
            "  0%|          | 0/218 [00:00<?, ?it/s]"
          ],
          "name": "stderr"
        },
        {
          "output_type": "stream",
          "text": [
            "\n",
            "Epoch : 46, mean loss : 14990.98\n",
            "Beginning epoch 47\n"
          ],
          "name": "stdout"
        },
        {
          "output_type": "stream",
          "text": [
            "100%|██████████| 218/218 [01:20<00:00,  2.70it/s]\n",
            "  0%|          | 0/218 [00:00<?, ?it/s]"
          ],
          "name": "stderr"
        },
        {
          "output_type": "stream",
          "text": [
            "\n",
            "Epoch : 47, mean loss : 14778.23\n",
            "Beginning epoch 48\n"
          ],
          "name": "stdout"
        },
        {
          "output_type": "stream",
          "text": [
            "100%|██████████| 218/218 [01:20<00:00,  2.72it/s]\n",
            "  0%|          | 0/218 [00:00<?, ?it/s]"
          ],
          "name": "stderr"
        },
        {
          "output_type": "stream",
          "text": [
            "\n",
            "Epoch : 48, mean loss : 14573.45\n",
            "Beginning epoch 49\n"
          ],
          "name": "stdout"
        },
        {
          "output_type": "stream",
          "text": [
            "100%|██████████| 218/218 [01:20<00:00,  2.70it/s]\n",
            "  0%|          | 0/218 [00:00<?, ?it/s]"
          ],
          "name": "stderr"
        },
        {
          "output_type": "stream",
          "text": [
            "\n",
            "Epoch : 49, mean loss : 14374.63\n",
            "Beginning epoch 50\n"
          ],
          "name": "stdout"
        },
        {
          "output_type": "stream",
          "text": [
            "100%|██████████| 218/218 [01:21<00:00,  2.68it/s]\n",
            "  0%|          | 0/218 [00:00<?, ?it/s]"
          ],
          "name": "stderr"
        },
        {
          "output_type": "stream",
          "text": [
            "\n",
            "Epoch : 50, mean loss : 14181.85\n",
            "Beginning epoch 51\n"
          ],
          "name": "stdout"
        },
        {
          "output_type": "stream",
          "text": [
            "100%|██████████| 218/218 [01:20<00:00,  2.70it/s]\n",
            "  0%|          | 0/218 [00:00<?, ?it/s]"
          ],
          "name": "stderr"
        },
        {
          "output_type": "stream",
          "text": [
            "\n",
            "Epoch : 51, mean loss : 13995.47\n",
            "Beginning epoch 52\n"
          ],
          "name": "stdout"
        },
        {
          "output_type": "stream",
          "text": [
            "100%|██████████| 218/218 [01:19<00:00,  2.73it/s]\n",
            "  0%|          | 0/218 [00:00<?, ?it/s]"
          ],
          "name": "stderr"
        },
        {
          "output_type": "stream",
          "text": [
            "\n",
            "Epoch : 52, mean loss : 13815.21\n",
            "Beginning epoch 53\n"
          ],
          "name": "stdout"
        },
        {
          "output_type": "stream",
          "text": [
            "100%|██████████| 218/218 [01:20<00:00,  2.71it/s]\n",
            "  0%|          | 0/218 [00:00<?, ?it/s]"
          ],
          "name": "stderr"
        },
        {
          "output_type": "stream",
          "text": [
            "\n",
            "Epoch : 53, mean loss : 13640.03\n",
            "Beginning epoch 54\n"
          ],
          "name": "stdout"
        },
        {
          "output_type": "stream",
          "text": [
            "100%|██████████| 218/218 [01:21<00:00,  2.69it/s]\n",
            "  0%|          | 0/218 [00:00<?, ?it/s]"
          ],
          "name": "stderr"
        },
        {
          "output_type": "stream",
          "text": [
            "\n",
            "Epoch : 54, mean loss : 13470.57\n",
            "Beginning epoch 55\n"
          ],
          "name": "stdout"
        },
        {
          "output_type": "stream",
          "text": [
            "100%|██████████| 218/218 [01:20<00:00,  2.71it/s]\n",
            "  0%|          | 0/218 [00:00<?, ?it/s]"
          ],
          "name": "stderr"
        },
        {
          "output_type": "stream",
          "text": [
            "\n",
            "Epoch : 55, mean loss : 13305.71\n",
            "Beginning epoch 56\n"
          ],
          "name": "stdout"
        },
        {
          "output_type": "stream",
          "text": [
            "100%|██████████| 218/218 [01:21<00:00,  2.67it/s]\n",
            "  0%|          | 0/218 [00:00<?, ?it/s]"
          ],
          "name": "stderr"
        },
        {
          "output_type": "stream",
          "text": [
            "\n",
            "Epoch : 56, mean loss : 13145.92\n",
            "Beginning epoch 57\n"
          ],
          "name": "stdout"
        },
        {
          "output_type": "stream",
          "text": [
            "100%|██████████| 218/218 [01:20<00:00,  2.71it/s]\n",
            "  0%|          | 0/218 [00:00<?, ?it/s]"
          ],
          "name": "stderr"
        },
        {
          "output_type": "stream",
          "text": [
            "\n",
            "Epoch : 57, mean loss : 12990.60\n",
            "Beginning epoch 58\n"
          ],
          "name": "stdout"
        },
        {
          "output_type": "stream",
          "text": [
            "100%|██████████| 218/218 [01:21<00:00,  2.69it/s]\n",
            "  0%|          | 0/218 [00:00<?, ?it/s]"
          ],
          "name": "stderr"
        },
        {
          "output_type": "stream",
          "text": [
            "\n",
            "Epoch : 58, mean loss : 12839.17\n",
            "Beginning epoch 59\n"
          ],
          "name": "stdout"
        },
        {
          "output_type": "stream",
          "text": [
            "100%|██████████| 218/218 [01:20<00:00,  2.69it/s]\n",
            "  0%|          | 0/218 [00:00<?, ?it/s]"
          ],
          "name": "stderr"
        },
        {
          "output_type": "stream",
          "text": [
            "\n",
            "Epoch : 59, mean loss : 12692.12\n",
            "Beginning epoch 60\n"
          ],
          "name": "stdout"
        },
        {
          "output_type": "stream",
          "text": [
            "100%|██████████| 218/218 [01:21<00:00,  2.66it/s]\n",
            "  0%|          | 0/218 [00:00<?, ?it/s]"
          ],
          "name": "stderr"
        },
        {
          "output_type": "stream",
          "text": [
            "\n",
            "Epoch : 60, mean loss : 12548.85\n",
            "Beginning epoch 61\n"
          ],
          "name": "stdout"
        },
        {
          "output_type": "stream",
          "text": [
            "100%|██████████| 218/218 [01:22<00:00,  2.64it/s]\n",
            "  0%|          | 0/218 [00:00<?, ?it/s]"
          ],
          "name": "stderr"
        },
        {
          "output_type": "stream",
          "text": [
            "\n",
            "Epoch : 61, mean loss : 12409.59\n",
            "Beginning epoch 62\n"
          ],
          "name": "stdout"
        },
        {
          "output_type": "stream",
          "text": [
            "100%|██████████| 218/218 [01:22<00:00,  2.65it/s]\n",
            "  0%|          | 0/218 [00:00<?, ?it/s]"
          ],
          "name": "stderr"
        },
        {
          "output_type": "stream",
          "text": [
            "\n",
            "Epoch : 62, mean loss : 12273.98\n",
            "Beginning epoch 63\n"
          ],
          "name": "stdout"
        },
        {
          "output_type": "stream",
          "text": [
            "100%|██████████| 218/218 [01:21<00:00,  2.66it/s]\n",
            "  0%|          | 0/218 [00:00<?, ?it/s]"
          ],
          "name": "stderr"
        },
        {
          "output_type": "stream",
          "text": [
            "\n",
            "Epoch : 63, mean loss : 12141.91\n",
            "Beginning epoch 64\n"
          ],
          "name": "stdout"
        },
        {
          "output_type": "stream",
          "text": [
            "100%|██████████| 218/218 [01:22<00:00,  2.66it/s]\n",
            "  0%|          | 0/218 [00:00<?, ?it/s]"
          ],
          "name": "stderr"
        },
        {
          "output_type": "stream",
          "text": [
            "\n",
            "Epoch : 64, mean loss : 12013.33\n",
            "Beginning epoch 65\n"
          ],
          "name": "stdout"
        },
        {
          "output_type": "stream",
          "text": [
            "100%|██████████| 218/218 [01:22<00:00,  2.65it/s]\n",
            "  0%|          | 0/218 [00:00<?, ?it/s]"
          ],
          "name": "stderr"
        },
        {
          "output_type": "stream",
          "text": [
            "\n",
            "Epoch : 65, mean loss : 11887.95\n",
            "Beginning epoch 66\n"
          ],
          "name": "stdout"
        },
        {
          "output_type": "stream",
          "text": [
            "100%|██████████| 218/218 [01:22<00:00,  2.63it/s]\n",
            "  0%|          | 0/218 [00:00<?, ?it/s]"
          ],
          "name": "stderr"
        },
        {
          "output_type": "stream",
          "text": [
            "\n",
            "Epoch : 66, mean loss : 11765.65\n",
            "Beginning epoch 67\n"
          ],
          "name": "stdout"
        },
        {
          "output_type": "stream",
          "text": [
            "100%|██████████| 218/218 [01:21<00:00,  2.66it/s]\n",
            "  0%|          | 0/218 [00:00<?, ?it/s]"
          ],
          "name": "stderr"
        },
        {
          "output_type": "stream",
          "text": [
            "\n",
            "Epoch : 67, mean loss : 11646.14\n",
            "Beginning epoch 68\n"
          ],
          "name": "stdout"
        },
        {
          "output_type": "stream",
          "text": [
            "100%|██████████| 218/218 [01:23<00:00,  2.60it/s]\n",
            "  0%|          | 0/218 [00:00<?, ?it/s]"
          ],
          "name": "stderr"
        },
        {
          "output_type": "stream",
          "text": [
            "\n",
            "Epoch : 68, mean loss : 11529.71\n",
            "Beginning epoch 69\n"
          ],
          "name": "stdout"
        },
        {
          "output_type": "stream",
          "text": [
            "100%|██████████| 218/218 [01:25<00:00,  2.56it/s]\n",
            "  0%|          | 0/218 [00:00<?, ?it/s]"
          ],
          "name": "stderr"
        },
        {
          "output_type": "stream",
          "text": [
            "\n",
            "Epoch : 69, mean loss : 11415.96\n",
            "Beginning epoch 70\n"
          ],
          "name": "stdout"
        },
        {
          "output_type": "stream",
          "text": [
            "100%|██████████| 218/218 [01:23<00:00,  2.60it/s]\n",
            "  0%|          | 0/218 [00:00<?, ?it/s]"
          ],
          "name": "stderr"
        },
        {
          "output_type": "stream",
          "text": [
            "\n",
            "Epoch : 70, mean loss : 11304.61\n",
            "Beginning epoch 71\n"
          ],
          "name": "stdout"
        },
        {
          "output_type": "stream",
          "text": [
            "100%|██████████| 218/218 [01:21<00:00,  2.68it/s]\n",
            "  0%|          | 0/218 [00:00<?, ?it/s]"
          ],
          "name": "stderr"
        },
        {
          "output_type": "stream",
          "text": [
            "\n",
            "Epoch : 71, mean loss : 11195.88\n",
            "Beginning epoch 72\n"
          ],
          "name": "stdout"
        },
        {
          "output_type": "stream",
          "text": [
            "100%|██████████| 218/218 [01:20<00:00,  2.71it/s]\n",
            "  0%|          | 0/218 [00:00<?, ?it/s]"
          ],
          "name": "stderr"
        },
        {
          "output_type": "stream",
          "text": [
            "\n",
            "Epoch : 72, mean loss : 11090.00\n",
            "Beginning epoch 73\n"
          ],
          "name": "stdout"
        },
        {
          "output_type": "stream",
          "text": [
            "100%|██████████| 218/218 [01:23<00:00,  2.61it/s]\n",
            "  0%|          | 0/218 [00:00<?, ?it/s]"
          ],
          "name": "stderr"
        },
        {
          "output_type": "stream",
          "text": [
            "\n",
            "Epoch : 73, mean loss : 10986.45\n",
            "Beginning epoch 74\n"
          ],
          "name": "stdout"
        },
        {
          "output_type": "stream",
          "text": [
            "100%|██████████| 218/218 [01:22<00:00,  2.66it/s]\n",
            "  0%|          | 0/218 [00:00<?, ?it/s]"
          ],
          "name": "stderr"
        },
        {
          "output_type": "stream",
          "text": [
            "\n",
            "Epoch : 74, mean loss : 10884.84\n",
            "Beginning epoch 75\n"
          ],
          "name": "stdout"
        },
        {
          "output_type": "stream",
          "text": [
            "100%|██████████| 218/218 [01:20<00:00,  2.70it/s]\n",
            "  0%|          | 0/218 [00:00<?, ?it/s]"
          ],
          "name": "stderr"
        },
        {
          "output_type": "stream",
          "text": [
            "\n",
            "Epoch : 75, mean loss : 10785.54\n",
            "Beginning epoch 76\n"
          ],
          "name": "stdout"
        },
        {
          "output_type": "stream",
          "text": [
            "100%|██████████| 218/218 [01:20<00:00,  2.70it/s]\n",
            "  0%|          | 0/218 [00:00<?, ?it/s]"
          ],
          "name": "stderr"
        },
        {
          "output_type": "stream",
          "text": [
            "\n",
            "Epoch : 76, mean loss : 10688.32\n",
            "Beginning epoch 77\n"
          ],
          "name": "stdout"
        },
        {
          "output_type": "stream",
          "text": [
            "100%|██████████| 218/218 [01:20<00:00,  2.71it/s]\n",
            "  0%|          | 0/218 [00:00<?, ?it/s]"
          ],
          "name": "stderr"
        },
        {
          "output_type": "stream",
          "text": [
            "\n",
            "Epoch : 77, mean loss : 10593.33\n",
            "Beginning epoch 78\n"
          ],
          "name": "stdout"
        },
        {
          "output_type": "stream",
          "text": [
            "100%|██████████| 218/218 [01:20<00:00,  2.70it/s]\n",
            "  0%|          | 0/218 [00:00<?, ?it/s]"
          ],
          "name": "stderr"
        },
        {
          "output_type": "stream",
          "text": [
            "\n",
            "Epoch : 78, mean loss : 10500.17\n",
            "Beginning epoch 79\n"
          ],
          "name": "stdout"
        },
        {
          "output_type": "stream",
          "text": [
            "100%|██████████| 218/218 [01:20<00:00,  2.70it/s]\n",
            "  0%|          | 0/218 [00:00<?, ?it/s]"
          ],
          "name": "stderr"
        },
        {
          "output_type": "stream",
          "text": [
            "\n",
            "Epoch : 79, mean loss : 10409.09\n",
            "Beginning epoch 80\n"
          ],
          "name": "stdout"
        },
        {
          "output_type": "stream",
          "text": [
            "100%|██████████| 218/218 [01:20<00:00,  2.70it/s]\n",
            "  0%|          | 0/218 [00:00<?, ?it/s]"
          ],
          "name": "stderr"
        },
        {
          "output_type": "stream",
          "text": [
            "\n",
            "Epoch : 80, mean loss : 10319.70\n",
            "Beginning epoch 81\n"
          ],
          "name": "stdout"
        },
        {
          "output_type": "stream",
          "text": [
            "100%|██████████| 218/218 [01:20<00:00,  2.70it/s]\n",
            "  0%|          | 0/218 [00:00<?, ?it/s]"
          ],
          "name": "stderr"
        },
        {
          "output_type": "stream",
          "text": [
            "\n",
            "Epoch : 81, mean loss : 10232.36\n",
            "Beginning epoch 82\n"
          ],
          "name": "stdout"
        },
        {
          "output_type": "stream",
          "text": [
            "100%|██████████| 218/218 [01:20<00:00,  2.70it/s]\n",
            "  0%|          | 0/218 [00:00<?, ?it/s]"
          ],
          "name": "stderr"
        },
        {
          "output_type": "stream",
          "text": [
            "\n",
            "Epoch : 82, mean loss : 10146.73\n",
            "Beginning epoch 83\n"
          ],
          "name": "stdout"
        },
        {
          "output_type": "stream",
          "text": [
            "100%|██████████| 218/218 [01:20<00:00,  2.70it/s]\n",
            "  0%|          | 0/218 [00:00<?, ?it/s]"
          ],
          "name": "stderr"
        },
        {
          "output_type": "stream",
          "text": [
            "\n",
            "Epoch : 83, mean loss : 10062.77\n",
            "Beginning epoch 84\n"
          ],
          "name": "stdout"
        },
        {
          "output_type": "stream",
          "text": [
            "100%|██████████| 218/218 [01:21<00:00,  2.69it/s]\n",
            "  0%|          | 0/218 [00:00<?, ?it/s]"
          ],
          "name": "stderr"
        },
        {
          "output_type": "stream",
          "text": [
            "\n",
            "Epoch : 84, mean loss : 9980.46\n",
            "Beginning epoch 85\n"
          ],
          "name": "stdout"
        },
        {
          "output_type": "stream",
          "text": [
            "100%|██████████| 218/218 [01:20<00:00,  2.71it/s]\n",
            "  0%|          | 0/218 [00:00<?, ?it/s]"
          ],
          "name": "stderr"
        },
        {
          "output_type": "stream",
          "text": [
            "\n",
            "Epoch : 85, mean loss : 9899.85\n",
            "Beginning epoch 86\n"
          ],
          "name": "stdout"
        },
        {
          "output_type": "stream",
          "text": [
            "100%|██████████| 218/218 [01:21<00:00,  2.69it/s]\n",
            "  0%|          | 0/218 [00:00<?, ?it/s]"
          ],
          "name": "stderr"
        },
        {
          "output_type": "stream",
          "text": [
            "\n",
            "Epoch : 86, mean loss : 9820.64\n",
            "Beginning epoch 87\n"
          ],
          "name": "stdout"
        },
        {
          "output_type": "stream",
          "text": [
            "100%|██████████| 218/218 [01:21<00:00,  2.68it/s]\n",
            "  0%|          | 0/218 [00:00<?, ?it/s]"
          ],
          "name": "stderr"
        },
        {
          "output_type": "stream",
          "text": [
            "\n",
            "Epoch : 87, mean loss : 9742.77\n",
            "Beginning epoch 88\n"
          ],
          "name": "stdout"
        },
        {
          "output_type": "stream",
          "text": [
            "100%|██████████| 218/218 [01:21<00:00,  2.69it/s]\n",
            "  0%|          | 0/218 [00:00<?, ?it/s]"
          ],
          "name": "stderr"
        },
        {
          "output_type": "stream",
          "text": [
            "\n",
            "Epoch : 88, mean loss : 9666.59\n",
            "Beginning epoch 89\n"
          ],
          "name": "stdout"
        },
        {
          "output_type": "stream",
          "text": [
            "100%|██████████| 218/218 [01:20<00:00,  2.71it/s]\n",
            "  0%|          | 0/218 [00:00<?, ?it/s]"
          ],
          "name": "stderr"
        },
        {
          "output_type": "stream",
          "text": [
            "\n",
            "Epoch : 89, mean loss : 9591.94\n",
            "Beginning epoch 90\n"
          ],
          "name": "stdout"
        },
        {
          "output_type": "stream",
          "text": [
            "100%|██████████| 218/218 [01:21<00:00,  2.69it/s]\n",
            "  0%|          | 0/218 [00:00<?, ?it/s]"
          ],
          "name": "stderr"
        },
        {
          "output_type": "stream",
          "text": [
            "\n",
            "Epoch : 90, mean loss : 9518.59\n",
            "Beginning epoch 91\n"
          ],
          "name": "stdout"
        },
        {
          "output_type": "stream",
          "text": [
            "100%|██████████| 218/218 [01:20<00:00,  2.70it/s]\n",
            "  0%|          | 0/218 [00:00<?, ?it/s]"
          ],
          "name": "stderr"
        },
        {
          "output_type": "stream",
          "text": [
            "\n",
            "Epoch : 91, mean loss : 9446.54\n",
            "Beginning epoch 92\n"
          ],
          "name": "stdout"
        },
        {
          "output_type": "stream",
          "text": [
            "100%|██████████| 218/218 [01:21<00:00,  2.68it/s]\n",
            "  0%|          | 0/218 [00:00<?, ?it/s]"
          ],
          "name": "stderr"
        },
        {
          "output_type": "stream",
          "text": [
            "\n",
            "Epoch : 92, mean loss : 9375.75\n",
            "Beginning epoch 93\n"
          ],
          "name": "stdout"
        },
        {
          "output_type": "stream",
          "text": [
            "100%|██████████| 218/218 [01:20<00:00,  2.69it/s]\n",
            "  0%|          | 0/218 [00:00<?, ?it/s]"
          ],
          "name": "stderr"
        },
        {
          "output_type": "stream",
          "text": [
            "\n",
            "Epoch : 93, mean loss : 9306.11\n",
            "Beginning epoch 94\n"
          ],
          "name": "stdout"
        },
        {
          "output_type": "stream",
          "text": [
            "100%|██████████| 218/218 [01:22<00:00,  2.65it/s]\n",
            "  0%|          | 0/218 [00:00<?, ?it/s]"
          ],
          "name": "stderr"
        },
        {
          "output_type": "stream",
          "text": [
            "\n",
            "Epoch : 94, mean loss : 9237.72\n",
            "Beginning epoch 95\n"
          ],
          "name": "stdout"
        },
        {
          "output_type": "stream",
          "text": [
            "100%|██████████| 218/218 [01:21<00:00,  2.68it/s]\n",
            "  0%|          | 0/218 [00:00<?, ?it/s]"
          ],
          "name": "stderr"
        },
        {
          "output_type": "stream",
          "text": [
            "\n",
            "Epoch : 95, mean loss : 9170.60\n",
            "Beginning epoch 96\n"
          ],
          "name": "stdout"
        },
        {
          "output_type": "stream",
          "text": [
            "100%|██████████| 218/218 [01:20<00:00,  2.70it/s]\n",
            "  0%|          | 0/218 [00:00<?, ?it/s]"
          ],
          "name": "stderr"
        },
        {
          "output_type": "stream",
          "text": [
            "\n",
            "Epoch : 96, mean loss : 9104.55\n",
            "Beginning epoch 97\n"
          ],
          "name": "stdout"
        },
        {
          "output_type": "stream",
          "text": [
            "100%|██████████| 218/218 [01:21<00:00,  2.67it/s]\n",
            "  0%|          | 0/218 [00:00<?, ?it/s]"
          ],
          "name": "stderr"
        },
        {
          "output_type": "stream",
          "text": [
            "\n",
            "Epoch : 97, mean loss : 9039.68\n",
            "Beginning epoch 98\n"
          ],
          "name": "stdout"
        },
        {
          "output_type": "stream",
          "text": [
            "100%|██████████| 218/218 [01:22<00:00,  2.65it/s]\n",
            "  0%|          | 0/218 [00:00<?, ?it/s]"
          ],
          "name": "stderr"
        },
        {
          "output_type": "stream",
          "text": [
            "\n",
            "Epoch : 98, mean loss : 8975.81\n",
            "Beginning epoch 99\n"
          ],
          "name": "stdout"
        },
        {
          "output_type": "stream",
          "text": [
            "100%|██████████| 218/218 [01:21<00:00,  2.68it/s]\n",
            "  0%|          | 0/218 [00:00<?, ?it/s]"
          ],
          "name": "stderr"
        },
        {
          "output_type": "stream",
          "text": [
            "\n",
            "Epoch : 99, mean loss : 8913.22\n",
            "Beginning epoch 100\n"
          ],
          "name": "stdout"
        },
        {
          "output_type": "stream",
          "text": [
            "100%|██████████| 218/218 [01:21<00:00,  2.67it/s]\n",
            "  0%|          | 0/218 [00:00<?, ?it/s]"
          ],
          "name": "stderr"
        },
        {
          "output_type": "stream",
          "text": [
            "\n",
            "Epoch : 100, mean loss : 8851.56\n",
            "Beginning epoch 101\n"
          ],
          "name": "stdout"
        },
        {
          "output_type": "stream",
          "text": [
            "100%|██████████| 218/218 [01:22<00:00,  2.65it/s]\n",
            "  0%|          | 0/218 [00:00<?, ?it/s]"
          ],
          "name": "stderr"
        },
        {
          "output_type": "stream",
          "text": [
            "\n",
            "Epoch : 101, mean loss : 8790.83\n",
            "Beginning epoch 102\n"
          ],
          "name": "stdout"
        },
        {
          "output_type": "stream",
          "text": [
            "100%|██████████| 218/218 [01:21<00:00,  2.67it/s]\n",
            "  0%|          | 0/218 [00:00<?, ?it/s]"
          ],
          "name": "stderr"
        },
        {
          "output_type": "stream",
          "text": [
            "\n",
            "Epoch : 102, mean loss : 8731.07\n",
            "Beginning epoch 103\n"
          ],
          "name": "stdout"
        },
        {
          "output_type": "stream",
          "text": [
            "100%|██████████| 218/218 [01:21<00:00,  2.67it/s]\n",
            "  0%|          | 0/218 [00:00<?, ?it/s]"
          ],
          "name": "stderr"
        },
        {
          "output_type": "stream",
          "text": [
            "\n",
            "Epoch : 103, mean loss : 8672.37\n",
            "Beginning epoch 104\n"
          ],
          "name": "stdout"
        },
        {
          "output_type": "stream",
          "text": [
            "100%|██████████| 218/218 [01:21<00:00,  2.68it/s]\n",
            "  0%|          | 0/218 [00:00<?, ?it/s]"
          ],
          "name": "stderr"
        },
        {
          "output_type": "stream",
          "text": [
            "\n",
            "Epoch : 104, mean loss : 8614.37\n",
            "Beginning epoch 105\n"
          ],
          "name": "stdout"
        },
        {
          "output_type": "stream",
          "text": [
            "100%|██████████| 218/218 [01:21<00:00,  2.67it/s]\n",
            "  0%|          | 0/218 [00:00<?, ?it/s]"
          ],
          "name": "stderr"
        },
        {
          "output_type": "stream",
          "text": [
            "\n",
            "Epoch : 105, mean loss : 8557.53\n",
            "Beginning epoch 106\n"
          ],
          "name": "stdout"
        },
        {
          "output_type": "stream",
          "text": [
            "100%|██████████| 218/218 [01:21<00:00,  2.67it/s]\n",
            "  0%|          | 0/218 [00:00<?, ?it/s]"
          ],
          "name": "stderr"
        },
        {
          "output_type": "stream",
          "text": [
            "\n",
            "Epoch : 106, mean loss : 8501.45\n",
            "Beginning epoch 107\n"
          ],
          "name": "stdout"
        },
        {
          "output_type": "stream",
          "text": [
            "100%|██████████| 218/218 [01:21<00:00,  2.67it/s]\n",
            "  0%|          | 0/218 [00:00<?, ?it/s]"
          ],
          "name": "stderr"
        },
        {
          "output_type": "stream",
          "text": [
            "\n",
            "Epoch : 107, mean loss : 8446.21\n",
            "Beginning epoch 108\n"
          ],
          "name": "stdout"
        },
        {
          "output_type": "stream",
          "text": [
            "100%|██████████| 218/218 [01:22<00:00,  2.63it/s]\n",
            "  0%|          | 0/218 [00:00<?, ?it/s]"
          ],
          "name": "stderr"
        },
        {
          "output_type": "stream",
          "text": [
            "\n",
            "Epoch : 108, mean loss : 8391.96\n",
            "Beginning epoch 109\n"
          ],
          "name": "stdout"
        },
        {
          "output_type": "stream",
          "text": [
            "100%|██████████| 218/218 [01:23<00:00,  2.63it/s]\n",
            "  0%|          | 0/218 [00:00<?, ?it/s]"
          ],
          "name": "stderr"
        },
        {
          "output_type": "stream",
          "text": [
            "\n",
            "Epoch : 109, mean loss : 8338.44\n",
            "Beginning epoch 110\n"
          ],
          "name": "stdout"
        },
        {
          "output_type": "stream",
          "text": [
            "100%|██████████| 218/218 [01:21<00:00,  2.67it/s]\n",
            "  0%|          | 0/218 [00:00<?, ?it/s]"
          ],
          "name": "stderr"
        },
        {
          "output_type": "stream",
          "text": [
            "\n",
            "Epoch : 110, mean loss : 8285.67\n",
            "Beginning epoch 111\n"
          ],
          "name": "stdout"
        },
        {
          "output_type": "stream",
          "text": [
            "100%|██████████| 218/218 [01:20<00:00,  2.70it/s]\n",
            "  0%|          | 0/218 [00:00<?, ?it/s]"
          ],
          "name": "stderr"
        },
        {
          "output_type": "stream",
          "text": [
            "\n",
            "Epoch : 111, mean loss : 8233.85\n",
            "Beginning epoch 112\n"
          ],
          "name": "stdout"
        },
        {
          "output_type": "stream",
          "text": [
            "100%|██████████| 218/218 [01:20<00:00,  2.71it/s]\n",
            "  0%|          | 0/218 [00:00<?, ?it/s]"
          ],
          "name": "stderr"
        },
        {
          "output_type": "stream",
          "text": [
            "\n",
            "Epoch : 112, mean loss : 8182.77\n",
            "Beginning epoch 113\n"
          ],
          "name": "stdout"
        },
        {
          "output_type": "stream",
          "text": [
            "100%|██████████| 218/218 [01:21<00:00,  2.69it/s]\n",
            "  0%|          | 0/218 [00:00<?, ?it/s]"
          ],
          "name": "stderr"
        },
        {
          "output_type": "stream",
          "text": [
            "\n",
            "Epoch : 113, mean loss : 8132.29\n",
            "Beginning epoch 114\n"
          ],
          "name": "stdout"
        },
        {
          "output_type": "stream",
          "text": [
            "100%|██████████| 218/218 [01:20<00:00,  2.70it/s]\n",
            "  0%|          | 0/218 [00:00<?, ?it/s]"
          ],
          "name": "stderr"
        },
        {
          "output_type": "stream",
          "text": [
            "\n",
            "Epoch : 114, mean loss : 8082.59\n",
            "Beginning epoch 115\n"
          ],
          "name": "stdout"
        },
        {
          "output_type": "stream",
          "text": [
            "100%|██████████| 218/218 [01:20<00:00,  2.70it/s]\n",
            "  0%|          | 0/218 [00:00<?, ?it/s]"
          ],
          "name": "stderr"
        },
        {
          "output_type": "stream",
          "text": [
            "\n",
            "Epoch : 115, mean loss : 8033.69\n",
            "Beginning epoch 116\n"
          ],
          "name": "stdout"
        },
        {
          "output_type": "stream",
          "text": [
            "100%|██████████| 218/218 [01:21<00:00,  2.66it/s]\n",
            "  0%|          | 0/218 [00:00<?, ?it/s]"
          ],
          "name": "stderr"
        },
        {
          "output_type": "stream",
          "text": [
            "\n",
            "Epoch : 116, mean loss : 7985.52\n",
            "Beginning epoch 117\n"
          ],
          "name": "stdout"
        },
        {
          "output_type": "stream",
          "text": [
            "100%|██████████| 218/218 [01:21<00:00,  2.66it/s]\n",
            "  0%|          | 0/218 [00:00<?, ?it/s]"
          ],
          "name": "stderr"
        },
        {
          "output_type": "stream",
          "text": [
            "\n",
            "Epoch : 117, mean loss : 7937.96\n",
            "Beginning epoch 118\n"
          ],
          "name": "stdout"
        },
        {
          "output_type": "stream",
          "text": [
            "100%|██████████| 218/218 [01:21<00:00,  2.67it/s]\n",
            "  0%|          | 0/218 [00:00<?, ?it/s]"
          ],
          "name": "stderr"
        },
        {
          "output_type": "stream",
          "text": [
            "\n",
            "Epoch : 118, mean loss : 7891.07\n",
            "Beginning epoch 119\n"
          ],
          "name": "stdout"
        },
        {
          "output_type": "stream",
          "text": [
            "100%|██████████| 218/218 [01:21<00:00,  2.69it/s]\n",
            "  0%|          | 0/218 [00:00<?, ?it/s]"
          ],
          "name": "stderr"
        },
        {
          "output_type": "stream",
          "text": [
            "\n",
            "Epoch : 119, mean loss : 7845.00\n",
            "Beginning epoch 120\n"
          ],
          "name": "stdout"
        },
        {
          "output_type": "stream",
          "text": [
            "100%|██████████| 218/218 [01:22<00:00,  2.66it/s]\n",
            "  0%|          | 0/218 [00:00<?, ?it/s]"
          ],
          "name": "stderr"
        },
        {
          "output_type": "stream",
          "text": [
            "\n",
            "Epoch : 120, mean loss : 7799.48\n",
            "Beginning epoch 121\n"
          ],
          "name": "stdout"
        },
        {
          "output_type": "stream",
          "text": [
            "100%|██████████| 218/218 [01:21<00:00,  2.67it/s]\n",
            "  0%|          | 0/218 [00:00<?, ?it/s]"
          ],
          "name": "stderr"
        },
        {
          "output_type": "stream",
          "text": [
            "\n",
            "Epoch : 121, mean loss : 7754.42\n",
            "Beginning epoch 122\n"
          ],
          "name": "stdout"
        },
        {
          "output_type": "stream",
          "text": [
            "100%|██████████| 218/218 [01:21<00:00,  2.69it/s]\n",
            "  0%|          | 0/218 [00:00<?, ?it/s]"
          ],
          "name": "stderr"
        },
        {
          "output_type": "stream",
          "text": [
            "\n",
            "Epoch : 122, mean loss : 7710.02\n",
            "Beginning epoch 123\n"
          ],
          "name": "stdout"
        },
        {
          "output_type": "stream",
          "text": [
            "100%|██████████| 218/218 [01:22<00:00,  2.65it/s]\n",
            "  0%|          | 0/218 [00:00<?, ?it/s]"
          ],
          "name": "stderr"
        },
        {
          "output_type": "stream",
          "text": [
            "\n",
            "Epoch : 123, mean loss : 7666.30\n",
            "Beginning epoch 124\n"
          ],
          "name": "stdout"
        },
        {
          "output_type": "stream",
          "text": [
            "100%|██████████| 218/218 [01:22<00:00,  2.64it/s]\n",
            "  0%|          | 0/218 [00:00<?, ?it/s]"
          ],
          "name": "stderr"
        },
        {
          "output_type": "stream",
          "text": [
            "\n",
            "Epoch : 124, mean loss : 7623.13\n",
            "Beginning epoch 125\n"
          ],
          "name": "stdout"
        },
        {
          "output_type": "stream",
          "text": [
            "100%|██████████| 218/218 [01:22<00:00,  2.64it/s]\n",
            "  0%|          | 0/218 [00:00<?, ?it/s]"
          ],
          "name": "stderr"
        },
        {
          "output_type": "stream",
          "text": [
            "\n",
            "Epoch : 125, mean loss : 7580.67\n",
            "Beginning epoch 126\n"
          ],
          "name": "stdout"
        },
        {
          "output_type": "stream",
          "text": [
            "100%|██████████| 218/218 [01:22<00:00,  2.65it/s]\n",
            "  0%|          | 0/218 [00:00<?, ?it/s]"
          ],
          "name": "stderr"
        },
        {
          "output_type": "stream",
          "text": [
            "\n",
            "Epoch : 126, mean loss : 7538.63\n",
            "Beginning epoch 127\n"
          ],
          "name": "stdout"
        },
        {
          "output_type": "stream",
          "text": [
            "100%|██████████| 218/218 [01:21<00:00,  2.67it/s]\n",
            "  0%|          | 0/218 [00:00<?, ?it/s]"
          ],
          "name": "stderr"
        },
        {
          "output_type": "stream",
          "text": [
            "\n",
            "Epoch : 127, mean loss : 7497.07\n",
            "Beginning epoch 128\n"
          ],
          "name": "stdout"
        },
        {
          "output_type": "stream",
          "text": [
            "100%|██████████| 218/218 [01:20<00:00,  2.69it/s]\n",
            "  0%|          | 0/218 [00:00<?, ?it/s]"
          ],
          "name": "stderr"
        },
        {
          "output_type": "stream",
          "text": [
            "\n",
            "Epoch : 128, mean loss : 7456.15\n",
            "Beginning epoch 129\n"
          ],
          "name": "stdout"
        },
        {
          "output_type": "stream",
          "text": [
            "100%|██████████| 218/218 [01:21<00:00,  2.67it/s]\n",
            "  0%|          | 0/218 [00:00<?, ?it/s]"
          ],
          "name": "stderr"
        },
        {
          "output_type": "stream",
          "text": [
            "\n",
            "Epoch : 129, mean loss : 7415.78\n",
            "Beginning epoch 130\n"
          ],
          "name": "stdout"
        },
        {
          "output_type": "stream",
          "text": [
            "100%|██████████| 218/218 [01:21<00:00,  2.69it/s]\n",
            "  0%|          | 0/218 [00:00<?, ?it/s]"
          ],
          "name": "stderr"
        },
        {
          "output_type": "stream",
          "text": [
            "\n",
            "Epoch : 130, mean loss : 7375.85\n",
            "Beginning epoch 131\n"
          ],
          "name": "stdout"
        },
        {
          "output_type": "stream",
          "text": [
            "100%|██████████| 218/218 [01:21<00:00,  2.67it/s]\n",
            "  0%|          | 0/218 [00:00<?, ?it/s]"
          ],
          "name": "stderr"
        },
        {
          "output_type": "stream",
          "text": [
            "\n",
            "Epoch : 131, mean loss : 7336.52\n",
            "Beginning epoch 132\n"
          ],
          "name": "stdout"
        },
        {
          "output_type": "stream",
          "text": [
            "100%|██████████| 218/218 [01:20<00:00,  2.70it/s]\n",
            "  0%|          | 0/218 [00:00<?, ?it/s]"
          ],
          "name": "stderr"
        },
        {
          "output_type": "stream",
          "text": [
            "\n",
            "Epoch : 132, mean loss : 7297.69\n",
            "Beginning epoch 133\n"
          ],
          "name": "stdout"
        },
        {
          "output_type": "stream",
          "text": [
            "100%|██████████| 218/218 [01:21<00:00,  2.66it/s]\n",
            "  0%|          | 0/218 [00:00<?, ?it/s]"
          ],
          "name": "stderr"
        },
        {
          "output_type": "stream",
          "text": [
            "\n",
            "Epoch : 133, mean loss : 7259.21\n",
            "Beginning epoch 134\n"
          ],
          "name": "stdout"
        },
        {
          "output_type": "stream",
          "text": [
            "100%|██████████| 218/218 [01:22<00:00,  2.65it/s]\n",
            "  0%|          | 0/218 [00:00<?, ?it/s]"
          ],
          "name": "stderr"
        },
        {
          "output_type": "stream",
          "text": [
            "\n",
            "Epoch : 134, mean loss : 7221.20\n",
            "Beginning epoch 135\n"
          ],
          "name": "stdout"
        },
        {
          "output_type": "stream",
          "text": [
            "100%|██████████| 218/218 [01:22<00:00,  2.66it/s]\n",
            "  0%|          | 0/218 [00:00<?, ?it/s]"
          ],
          "name": "stderr"
        },
        {
          "output_type": "stream",
          "text": [
            "\n",
            "Epoch : 135, mean loss : 7183.74\n",
            "Beginning epoch 136\n"
          ],
          "name": "stdout"
        },
        {
          "output_type": "stream",
          "text": [
            "100%|██████████| 218/218 [01:21<00:00,  2.68it/s]\n",
            "  0%|          | 0/218 [00:00<?, ?it/s]"
          ],
          "name": "stderr"
        },
        {
          "output_type": "stream",
          "text": [
            "\n",
            "Epoch : 136, mean loss : 7146.73\n",
            "Beginning epoch 137\n"
          ],
          "name": "stdout"
        },
        {
          "output_type": "stream",
          "text": [
            "100%|██████████| 218/218 [01:21<00:00,  2.68it/s]\n",
            "  0%|          | 0/218 [00:00<?, ?it/s]"
          ],
          "name": "stderr"
        },
        {
          "output_type": "stream",
          "text": [
            "\n",
            "Epoch : 137, mean loss : 7110.18\n",
            "Beginning epoch 138\n"
          ],
          "name": "stdout"
        },
        {
          "output_type": "stream",
          "text": [
            "100%|██████████| 218/218 [01:21<00:00,  2.68it/s]\n",
            "  0%|          | 0/218 [00:00<?, ?it/s]"
          ],
          "name": "stderr"
        },
        {
          "output_type": "stream",
          "text": [
            "\n",
            "Epoch : 138, mean loss : 7074.10\n",
            "Beginning epoch 139\n"
          ],
          "name": "stdout"
        },
        {
          "output_type": "stream",
          "text": [
            "100%|██████████| 218/218 [01:20<00:00,  2.70it/s]\n",
            "  0%|          | 0/218 [00:00<?, ?it/s]"
          ],
          "name": "stderr"
        },
        {
          "output_type": "stream",
          "text": [
            "\n",
            "Epoch : 139, mean loss : 7038.40\n",
            "Beginning epoch 140\n"
          ],
          "name": "stdout"
        },
        {
          "output_type": "stream",
          "text": [
            "100%|██████████| 218/218 [01:21<00:00,  2.68it/s]\n",
            "  0%|          | 0/218 [00:00<?, ?it/s]"
          ],
          "name": "stderr"
        },
        {
          "output_type": "stream",
          "text": [
            "\n",
            "Epoch : 140, mean loss : 7003.12\n",
            "Beginning epoch 141\n"
          ],
          "name": "stdout"
        },
        {
          "output_type": "stream",
          "text": [
            "100%|██████████| 218/218 [01:21<00:00,  2.67it/s]\n",
            "  0%|          | 0/218 [00:00<?, ?it/s]"
          ],
          "name": "stderr"
        },
        {
          "output_type": "stream",
          "text": [
            "\n",
            "Epoch : 141, mean loss : 6968.29\n",
            "Beginning epoch 142\n"
          ],
          "name": "stdout"
        },
        {
          "output_type": "stream",
          "text": [
            "100%|██████████| 218/218 [01:21<00:00,  2.68it/s]\n",
            "  0%|          | 0/218 [00:00<?, ?it/s]"
          ],
          "name": "stderr"
        },
        {
          "output_type": "stream",
          "text": [
            "\n",
            "Epoch : 142, mean loss : 6933.83\n",
            "Beginning epoch 143\n"
          ],
          "name": "stdout"
        },
        {
          "output_type": "stream",
          "text": [
            "100%|██████████| 218/218 [01:21<00:00,  2.68it/s]\n",
            "  0%|          | 0/218 [00:00<?, ?it/s]"
          ],
          "name": "stderr"
        },
        {
          "output_type": "stream",
          "text": [
            "\n",
            "Epoch : 143, mean loss : 6899.80\n",
            "Beginning epoch 144\n"
          ],
          "name": "stdout"
        },
        {
          "output_type": "stream",
          "text": [
            "100%|██████████| 218/218 [01:21<00:00,  2.68it/s]\n",
            "  0%|          | 0/218 [00:00<?, ?it/s]"
          ],
          "name": "stderr"
        },
        {
          "output_type": "stream",
          "text": [
            "\n",
            "Epoch : 144, mean loss : 6866.17\n",
            "Beginning epoch 145\n"
          ],
          "name": "stdout"
        },
        {
          "output_type": "stream",
          "text": [
            "100%|██████████| 218/218 [01:23<00:00,  2.61it/s]\n",
            "  0%|          | 0/218 [00:00<?, ?it/s]"
          ],
          "name": "stderr"
        },
        {
          "output_type": "stream",
          "text": [
            "\n",
            "Epoch : 145, mean loss : 6832.94\n",
            "Beginning epoch 146\n"
          ],
          "name": "stdout"
        },
        {
          "output_type": "stream",
          "text": [
            "100%|██████████| 218/218 [01:23<00:00,  2.62it/s]\n",
            "  0%|          | 0/218 [00:00<?, ?it/s]"
          ],
          "name": "stderr"
        },
        {
          "output_type": "stream",
          "text": [
            "\n",
            "Epoch : 146, mean loss : 6800.11\n",
            "Beginning epoch 147\n"
          ],
          "name": "stdout"
        },
        {
          "output_type": "stream",
          "text": [
            "100%|██████████| 218/218 [01:23<00:00,  2.60it/s]\n",
            "  0%|          | 0/218 [00:00<?, ?it/s]"
          ],
          "name": "stderr"
        },
        {
          "output_type": "stream",
          "text": [
            "\n",
            "Epoch : 147, mean loss : 6767.66\n",
            "Beginning epoch 148\n"
          ],
          "name": "stdout"
        },
        {
          "output_type": "stream",
          "text": [
            "100%|██████████| 218/218 [01:24<00:00,  2.57it/s]\n",
            "  0%|          | 0/218 [00:00<?, ?it/s]"
          ],
          "name": "stderr"
        },
        {
          "output_type": "stream",
          "text": [
            "\n",
            "Epoch : 148, mean loss : 6735.54\n",
            "Beginning epoch 149\n"
          ],
          "name": "stdout"
        },
        {
          "output_type": "stream",
          "text": [
            "100%|██████████| 218/218 [01:23<00:00,  2.62it/s]\n",
            "  0%|          | 0/218 [00:00<?, ?it/s]"
          ],
          "name": "stderr"
        },
        {
          "output_type": "stream",
          "text": [
            "\n",
            "Epoch : 149, mean loss : 6703.78\n",
            "Beginning epoch 150\n"
          ],
          "name": "stdout"
        },
        {
          "output_type": "stream",
          "text": [
            "100%|██████████| 218/218 [01:23<00:00,  2.63it/s]\n",
            "  0%|          | 0/218 [00:00<?, ?it/s]"
          ],
          "name": "stderr"
        },
        {
          "output_type": "stream",
          "text": [
            "\n",
            "Epoch : 150, mean loss : 6672.31\n",
            "Beginning epoch 151\n"
          ],
          "name": "stdout"
        },
        {
          "output_type": "stream",
          "text": [
            "100%|██████████| 218/218 [01:22<00:00,  2.65it/s]\n",
            "  0%|          | 0/218 [00:00<?, ?it/s]"
          ],
          "name": "stderr"
        },
        {
          "output_type": "stream",
          "text": [
            "\n",
            "Epoch : 151, mean loss : 6641.09\n",
            "Beginning epoch 152\n"
          ],
          "name": "stdout"
        },
        {
          "output_type": "stream",
          "text": [
            "100%|██████████| 218/218 [01:22<00:00,  2.63it/s]\n",
            "  0%|          | 0/218 [00:00<?, ?it/s]"
          ],
          "name": "stderr"
        },
        {
          "output_type": "stream",
          "text": [
            "\n",
            "Epoch : 152, mean loss : 6610.40\n",
            "Beginning epoch 153\n"
          ],
          "name": "stdout"
        },
        {
          "output_type": "stream",
          "text": [
            "100%|██████████| 218/218 [01:22<00:00,  2.63it/s]\n",
            "  0%|          | 0/218 [00:00<?, ?it/s]"
          ],
          "name": "stderr"
        },
        {
          "output_type": "stream",
          "text": [
            "\n",
            "Epoch : 153, mean loss : 6579.98\n",
            "Beginning epoch 154\n"
          ],
          "name": "stdout"
        },
        {
          "output_type": "stream",
          "text": [
            "100%|██████████| 218/218 [01:21<00:00,  2.68it/s]\n",
            "  0%|          | 0/218 [00:00<?, ?it/s]"
          ],
          "name": "stderr"
        },
        {
          "output_type": "stream",
          "text": [
            "\n",
            "Epoch : 154, mean loss : 6549.95\n",
            "Beginning epoch 155\n"
          ],
          "name": "stdout"
        },
        {
          "output_type": "stream",
          "text": [
            "100%|██████████| 218/218 [01:21<00:00,  2.67it/s]\n",
            "  0%|          | 0/218 [00:00<?, ?it/s]"
          ],
          "name": "stderr"
        },
        {
          "output_type": "stream",
          "text": [
            "\n",
            "Epoch : 155, mean loss : 6520.16\n",
            "Beginning epoch 156\n"
          ],
          "name": "stdout"
        },
        {
          "output_type": "stream",
          "text": [
            "100%|██████████| 218/218 [01:23<00:00,  2.62it/s]\n",
            "  0%|          | 0/218 [00:00<?, ?it/s]"
          ],
          "name": "stderr"
        },
        {
          "output_type": "stream",
          "text": [
            "\n",
            "Epoch : 156, mean loss : 6490.74\n",
            "Beginning epoch 157\n"
          ],
          "name": "stdout"
        },
        {
          "output_type": "stream",
          "text": [
            "100%|██████████| 218/218 [01:22<00:00,  2.65it/s]\n",
            "  0%|          | 0/218 [00:00<?, ?it/s]"
          ],
          "name": "stderr"
        },
        {
          "output_type": "stream",
          "text": [
            "\n",
            "Epoch : 157, mean loss : 6461.62\n",
            "Beginning epoch 158\n"
          ],
          "name": "stdout"
        },
        {
          "output_type": "stream",
          "text": [
            "100%|██████████| 218/218 [01:21<00:00,  2.67it/s]\n",
            "  0%|          | 0/218 [00:00<?, ?it/s]"
          ],
          "name": "stderr"
        },
        {
          "output_type": "stream",
          "text": [
            "\n",
            "Epoch : 158, mean loss : 6432.87\n",
            "Beginning epoch 159\n"
          ],
          "name": "stdout"
        },
        {
          "output_type": "stream",
          "text": [
            "100%|██████████| 218/218 [01:21<00:00,  2.67it/s]\n",
            "  0%|          | 0/218 [00:00<?, ?it/s]"
          ],
          "name": "stderr"
        },
        {
          "output_type": "stream",
          "text": [
            "\n",
            "Epoch : 159, mean loss : 6404.40\n",
            "Beginning epoch 160\n"
          ],
          "name": "stdout"
        },
        {
          "output_type": "stream",
          "text": [
            "100%|██████████| 218/218 [01:21<00:00,  2.66it/s]\n",
            "  0%|          | 0/218 [00:00<?, ?it/s]"
          ],
          "name": "stderr"
        },
        {
          "output_type": "stream",
          "text": [
            "\n",
            "Epoch : 160, mean loss : 6376.13\n",
            "Beginning epoch 161\n"
          ],
          "name": "stdout"
        },
        {
          "output_type": "stream",
          "text": [
            "100%|██████████| 218/218 [01:21<00:00,  2.66it/s]\n",
            "  0%|          | 0/218 [00:00<?, ?it/s]"
          ],
          "name": "stderr"
        },
        {
          "output_type": "stream",
          "text": [
            "\n",
            "Epoch : 161, mean loss : 6348.20\n",
            "Beginning epoch 162\n"
          ],
          "name": "stdout"
        },
        {
          "output_type": "stream",
          "text": [
            "100%|██████████| 218/218 [01:21<00:00,  2.68it/s]\n",
            "  0%|          | 0/218 [00:00<?, ?it/s]"
          ],
          "name": "stderr"
        },
        {
          "output_type": "stream",
          "text": [
            "\n",
            "Epoch : 162, mean loss : 6320.58\n",
            "Beginning epoch 163\n"
          ],
          "name": "stdout"
        },
        {
          "output_type": "stream",
          "text": [
            "100%|██████████| 218/218 [01:21<00:00,  2.68it/s]\n",
            "  0%|          | 0/218 [00:00<?, ?it/s]"
          ],
          "name": "stderr"
        },
        {
          "output_type": "stream",
          "text": [
            "\n",
            "Epoch : 163, mean loss : 6293.23\n",
            "Beginning epoch 164\n"
          ],
          "name": "stdout"
        },
        {
          "output_type": "stream",
          "text": [
            "100%|██████████| 218/218 [01:21<00:00,  2.68it/s]\n",
            "  0%|          | 0/218 [00:00<?, ?it/s]"
          ],
          "name": "stderr"
        },
        {
          "output_type": "stream",
          "text": [
            "\n",
            "Epoch : 164, mean loss : 6266.11\n",
            "Beginning epoch 165\n"
          ],
          "name": "stdout"
        },
        {
          "output_type": "stream",
          "text": [
            "100%|██████████| 218/218 [01:21<00:00,  2.68it/s]\n",
            "  0%|          | 0/218 [00:00<?, ?it/s]"
          ],
          "name": "stderr"
        },
        {
          "output_type": "stream",
          "text": [
            "\n",
            "Epoch : 165, mean loss : 6239.34\n",
            "Beginning epoch 166\n"
          ],
          "name": "stdout"
        },
        {
          "output_type": "stream",
          "text": [
            "100%|██████████| 218/218 [01:21<00:00,  2.69it/s]\n",
            "  0%|          | 0/218 [00:00<?, ?it/s]"
          ],
          "name": "stderr"
        },
        {
          "output_type": "stream",
          "text": [
            "\n",
            "Epoch : 166, mean loss : 6212.75\n",
            "Beginning epoch 167\n"
          ],
          "name": "stdout"
        },
        {
          "output_type": "stream",
          "text": [
            "100%|██████████| 218/218 [01:22<00:00,  2.64it/s]\n",
            "  0%|          | 0/218 [00:00<?, ?it/s]"
          ],
          "name": "stderr"
        },
        {
          "output_type": "stream",
          "text": [
            "\n",
            "Epoch : 167, mean loss : 6186.51\n",
            "Beginning epoch 168\n"
          ],
          "name": "stdout"
        },
        {
          "output_type": "stream",
          "text": [
            "100%|██████████| 218/218 [01:21<00:00,  2.66it/s]\n",
            "  0%|          | 0/218 [00:00<?, ?it/s]"
          ],
          "name": "stderr"
        },
        {
          "output_type": "stream",
          "text": [
            "\n",
            "Epoch : 168, mean loss : 6160.52\n",
            "Beginning epoch 169\n"
          ],
          "name": "stdout"
        },
        {
          "output_type": "stream",
          "text": [
            "100%|██████████| 218/218 [01:21<00:00,  2.68it/s]\n",
            "  0%|          | 0/218 [00:00<?, ?it/s]"
          ],
          "name": "stderr"
        },
        {
          "output_type": "stream",
          "text": [
            "\n",
            "Epoch : 169, mean loss : 6134.74\n",
            "Beginning epoch 170\n"
          ],
          "name": "stdout"
        },
        {
          "output_type": "stream",
          "text": [
            "100%|██████████| 218/218 [01:21<00:00,  2.67it/s]\n",
            "  0%|          | 0/218 [00:00<?, ?it/s]"
          ],
          "name": "stderr"
        },
        {
          "output_type": "stream",
          "text": [
            "\n",
            "Epoch : 170, mean loss : 6109.25\n",
            "Beginning epoch 171\n"
          ],
          "name": "stdout"
        },
        {
          "output_type": "stream",
          "text": [
            "100%|██████████| 218/218 [01:21<00:00,  2.68it/s]\n",
            "  0%|          | 0/218 [00:00<?, ?it/s]"
          ],
          "name": "stderr"
        },
        {
          "output_type": "stream",
          "text": [
            "\n",
            "Epoch : 171, mean loss : 6083.99\n",
            "Beginning epoch 172\n"
          ],
          "name": "stdout"
        },
        {
          "output_type": "stream",
          "text": [
            "100%|██████████| 218/218 [01:21<00:00,  2.68it/s]\n",
            "  0%|          | 0/218 [00:00<?, ?it/s]"
          ],
          "name": "stderr"
        },
        {
          "output_type": "stream",
          "text": [
            "\n",
            "Epoch : 172, mean loss : 6058.99\n",
            "Beginning epoch 173\n"
          ],
          "name": "stdout"
        },
        {
          "output_type": "stream",
          "text": [
            "100%|██████████| 218/218 [01:21<00:00,  2.66it/s]\n",
            "  0%|          | 0/218 [00:00<?, ?it/s]"
          ],
          "name": "stderr"
        },
        {
          "output_type": "stream",
          "text": [
            "\n",
            "Epoch : 173, mean loss : 6034.27\n",
            "Beginning epoch 174\n"
          ],
          "name": "stdout"
        },
        {
          "output_type": "stream",
          "text": [
            "100%|██████████| 218/218 [01:21<00:00,  2.67it/s]\n",
            "  0%|          | 0/218 [00:00<?, ?it/s]"
          ],
          "name": "stderr"
        },
        {
          "output_type": "stream",
          "text": [
            "\n",
            "Epoch : 174, mean loss : 6009.75\n",
            "Beginning epoch 175\n"
          ],
          "name": "stdout"
        },
        {
          "output_type": "stream",
          "text": [
            "100%|██████████| 218/218 [01:21<00:00,  2.66it/s]\n",
            "  0%|          | 0/218 [00:00<?, ?it/s]"
          ],
          "name": "stderr"
        },
        {
          "output_type": "stream",
          "text": [
            "\n",
            "Epoch : 175, mean loss : 5985.48\n",
            "Beginning epoch 176\n"
          ],
          "name": "stdout"
        },
        {
          "output_type": "stream",
          "text": [
            "100%|██████████| 218/218 [01:21<00:00,  2.66it/s]\n",
            "  0%|          | 0/218 [00:00<?, ?it/s]"
          ],
          "name": "stderr"
        },
        {
          "output_type": "stream",
          "text": [
            "\n",
            "Epoch : 176, mean loss : 5961.46\n",
            "Beginning epoch 177\n"
          ],
          "name": "stdout"
        },
        {
          "output_type": "stream",
          "text": [
            "100%|██████████| 218/218 [01:21<00:00,  2.66it/s]\n",
            "  0%|          | 0/218 [00:00<?, ?it/s]"
          ],
          "name": "stderr"
        },
        {
          "output_type": "stream",
          "text": [
            "\n",
            "Epoch : 177, mean loss : 5937.58\n",
            "Beginning epoch 178\n"
          ],
          "name": "stdout"
        },
        {
          "output_type": "stream",
          "text": [
            "100%|██████████| 218/218 [01:21<00:00,  2.67it/s]\n",
            "  0%|          | 0/218 [00:00<?, ?it/s]"
          ],
          "name": "stderr"
        },
        {
          "output_type": "stream",
          "text": [
            "\n",
            "Epoch : 178, mean loss : 5913.97\n",
            "Beginning epoch 179\n"
          ],
          "name": "stdout"
        },
        {
          "output_type": "stream",
          "text": [
            "100%|██████████| 218/218 [01:21<00:00,  2.67it/s]\n",
            "  0%|          | 0/218 [00:00<?, ?it/s]"
          ],
          "name": "stderr"
        },
        {
          "output_type": "stream",
          "text": [
            "\n",
            "Epoch : 179, mean loss : 5890.58\n",
            "Beginning epoch 180\n"
          ],
          "name": "stdout"
        },
        {
          "output_type": "stream",
          "text": [
            "100%|██████████| 218/218 [01:21<00:00,  2.67it/s]\n",
            "  0%|          | 0/218 [00:00<?, ?it/s]"
          ],
          "name": "stderr"
        },
        {
          "output_type": "stream",
          "text": [
            "\n",
            "Epoch : 180, mean loss : 5867.40\n",
            "Beginning epoch 181\n"
          ],
          "name": "stdout"
        },
        {
          "output_type": "stream",
          "text": [
            "100%|██████████| 218/218 [01:21<00:00,  2.68it/s]\n",
            "  0%|          | 0/218 [00:00<?, ?it/s]"
          ],
          "name": "stderr"
        },
        {
          "output_type": "stream",
          "text": [
            "\n",
            "Epoch : 181, mean loss : 5844.39\n",
            "Beginning epoch 182\n"
          ],
          "name": "stdout"
        },
        {
          "output_type": "stream",
          "text": [
            "100%|██████████| 218/218 [01:21<00:00,  2.67it/s]\n",
            "  0%|          | 0/218 [00:00<?, ?it/s]"
          ],
          "name": "stderr"
        },
        {
          "output_type": "stream",
          "text": [
            "\n",
            "Epoch : 182, mean loss : 5821.68\n",
            "Beginning epoch 183\n"
          ],
          "name": "stdout"
        },
        {
          "output_type": "stream",
          "text": [
            "100%|██████████| 218/218 [01:21<00:00,  2.66it/s]\n",
            "  0%|          | 0/218 [00:00<?, ?it/s]"
          ],
          "name": "stderr"
        },
        {
          "output_type": "stream",
          "text": [
            "\n",
            "Epoch : 183, mean loss : 5799.18\n",
            "Beginning epoch 184\n"
          ],
          "name": "stdout"
        },
        {
          "output_type": "stream",
          "text": [
            "100%|██████████| 218/218 [01:21<00:00,  2.67it/s]\n",
            "  0%|          | 0/218 [00:00<?, ?it/s]"
          ],
          "name": "stderr"
        },
        {
          "output_type": "stream",
          "text": [
            "\n",
            "Epoch : 184, mean loss : 5776.88\n",
            "Beginning epoch 185\n"
          ],
          "name": "stdout"
        },
        {
          "output_type": "stream",
          "text": [
            "100%|██████████| 218/218 [01:21<00:00,  2.68it/s]\n",
            "  0%|          | 0/218 [00:00<?, ?it/s]"
          ],
          "name": "stderr"
        },
        {
          "output_type": "stream",
          "text": [
            "\n",
            "Epoch : 185, mean loss : 5754.77\n",
            "Beginning epoch 186\n"
          ],
          "name": "stdout"
        },
        {
          "output_type": "stream",
          "text": [
            "100%|██████████| 218/218 [01:21<00:00,  2.67it/s]\n",
            "  0%|          | 0/218 [00:00<?, ?it/s]"
          ],
          "name": "stderr"
        },
        {
          "output_type": "stream",
          "text": [
            "\n",
            "Epoch : 186, mean loss : 5732.86\n",
            "Beginning epoch 187\n"
          ],
          "name": "stdout"
        },
        {
          "output_type": "stream",
          "text": [
            "100%|██████████| 218/218 [01:23<00:00,  2.62it/s]\n",
            "  0%|          | 0/218 [00:00<?, ?it/s]"
          ],
          "name": "stderr"
        },
        {
          "output_type": "stream",
          "text": [
            "\n",
            "Epoch : 187, mean loss : 5711.14\n",
            "Beginning epoch 188\n"
          ],
          "name": "stdout"
        },
        {
          "output_type": "stream",
          "text": [
            "100%|██████████| 218/218 [01:22<00:00,  2.64it/s]\n",
            "  0%|          | 0/218 [00:00<?, ?it/s]"
          ],
          "name": "stderr"
        },
        {
          "output_type": "stream",
          "text": [
            "\n",
            "Epoch : 188, mean loss : 5689.57\n",
            "Beginning epoch 189\n"
          ],
          "name": "stdout"
        },
        {
          "output_type": "stream",
          "text": [
            "100%|██████████| 218/218 [01:22<00:00,  2.64it/s]\n",
            "  0%|          | 0/218 [00:00<?, ?it/s]"
          ],
          "name": "stderr"
        },
        {
          "output_type": "stream",
          "text": [
            "\n",
            "Epoch : 189, mean loss : 5668.18\n",
            "Beginning epoch 190\n"
          ],
          "name": "stdout"
        },
        {
          "output_type": "stream",
          "text": [
            "100%|██████████| 218/218 [01:22<00:00,  2.65it/s]\n",
            "  0%|          | 0/218 [00:00<?, ?it/s]"
          ],
          "name": "stderr"
        },
        {
          "output_type": "stream",
          "text": [
            "\n",
            "Epoch : 190, mean loss : 5646.99\n",
            "Beginning epoch 191\n"
          ],
          "name": "stdout"
        },
        {
          "output_type": "stream",
          "text": [
            "100%|██████████| 218/218 [01:22<00:00,  2.65it/s]\n",
            "  0%|          | 0/218 [00:00<?, ?it/s]"
          ],
          "name": "stderr"
        },
        {
          "output_type": "stream",
          "text": [
            "\n",
            "Epoch : 191, mean loss : 5626.06\n",
            "Beginning epoch 192\n"
          ],
          "name": "stdout"
        },
        {
          "output_type": "stream",
          "text": [
            "100%|██████████| 218/218 [01:24<00:00,  2.58it/s]\n",
            "  0%|          | 0/218 [00:00<?, ?it/s]"
          ],
          "name": "stderr"
        },
        {
          "output_type": "stream",
          "text": [
            "\n",
            "Epoch : 192, mean loss : 5605.22\n",
            "Beginning epoch 193\n"
          ],
          "name": "stdout"
        },
        {
          "output_type": "stream",
          "text": [
            "100%|██████████| 218/218 [01:25<00:00,  2.56it/s]\n",
            "  0%|          | 0/218 [00:00<?, ?it/s]"
          ],
          "name": "stderr"
        },
        {
          "output_type": "stream",
          "text": [
            "\n",
            "Epoch : 193, mean loss : 5584.70\n",
            "Beginning epoch 194\n"
          ],
          "name": "stdout"
        },
        {
          "output_type": "stream",
          "text": [
            "100%|██████████| 218/218 [01:23<00:00,  2.60it/s]\n",
            "  0%|          | 0/218 [00:00<?, ?it/s]"
          ],
          "name": "stderr"
        },
        {
          "output_type": "stream",
          "text": [
            "\n",
            "Epoch : 194, mean loss : 5564.27\n",
            "Beginning epoch 195\n"
          ],
          "name": "stdout"
        },
        {
          "output_type": "stream",
          "text": [
            "100%|██████████| 218/218 [01:30<00:00,  2.41it/s]\n",
            "  0%|          | 0/218 [00:00<?, ?it/s]"
          ],
          "name": "stderr"
        },
        {
          "output_type": "stream",
          "text": [
            "\n",
            "Epoch : 195, mean loss : 5544.01\n",
            "Beginning epoch 196\n"
          ],
          "name": "stdout"
        },
        {
          "output_type": "stream",
          "text": [
            "100%|██████████| 218/218 [01:25<00:00,  2.55it/s]\n",
            "  0%|          | 0/218 [00:00<?, ?it/s]"
          ],
          "name": "stderr"
        },
        {
          "output_type": "stream",
          "text": [
            "\n",
            "Epoch : 196, mean loss : 5523.93\n",
            "Beginning epoch 197\n"
          ],
          "name": "stdout"
        },
        {
          "output_type": "stream",
          "text": [
            "100%|██████████| 218/218 [01:24<00:00,  2.57it/s]\n",
            "  0%|          | 0/218 [00:00<?, ?it/s]"
          ],
          "name": "stderr"
        },
        {
          "output_type": "stream",
          "text": [
            "\n",
            "Epoch : 197, mean loss : 5504.03\n",
            "Beginning epoch 198\n"
          ],
          "name": "stdout"
        },
        {
          "output_type": "stream",
          "text": [
            "100%|██████████| 218/218 [01:23<00:00,  2.60it/s]\n",
            "  0%|          | 0/218 [00:00<?, ?it/s]"
          ],
          "name": "stderr"
        },
        {
          "output_type": "stream",
          "text": [
            "\n",
            "Epoch : 198, mean loss : 5484.34\n",
            "Beginning epoch 199\n"
          ],
          "name": "stdout"
        },
        {
          "output_type": "stream",
          "text": [
            "100%|██████████| 218/218 [01:21<00:00,  2.66it/s]\n",
            "  0%|          | 0/218 [00:00<?, ?it/s]"
          ],
          "name": "stderr"
        },
        {
          "output_type": "stream",
          "text": [
            "\n",
            "Epoch : 199, mean loss : 5464.77\n",
            "Beginning epoch 200\n"
          ],
          "name": "stdout"
        },
        {
          "output_type": "stream",
          "text": [
            "100%|██████████| 218/218 [01:22<00:00,  2.64it/s]\n",
            "  0%|          | 0/218 [00:00<?, ?it/s]"
          ],
          "name": "stderr"
        },
        {
          "output_type": "stream",
          "text": [
            "\n",
            "Epoch : 200, mean loss : 5445.34\n",
            "Beginning epoch 201\n"
          ],
          "name": "stdout"
        },
        {
          "output_type": "stream",
          "text": [
            "100%|██████████| 218/218 [01:21<00:00,  2.66it/s]\n",
            "  0%|          | 0/218 [00:00<?, ?it/s]"
          ],
          "name": "stderr"
        },
        {
          "output_type": "stream",
          "text": [
            "\n",
            "Epoch : 201, mean loss : 5426.09\n",
            "Beginning epoch 202\n"
          ],
          "name": "stdout"
        },
        {
          "output_type": "stream",
          "text": [
            "100%|██████████| 218/218 [01:21<00:00,  2.67it/s]\n",
            "  0%|          | 0/218 [00:00<?, ?it/s]"
          ],
          "name": "stderr"
        },
        {
          "output_type": "stream",
          "text": [
            "\n",
            "Epoch : 202, mean loss : 5406.98\n",
            "Beginning epoch 203\n"
          ],
          "name": "stdout"
        },
        {
          "output_type": "stream",
          "text": [
            "100%|██████████| 218/218 [01:21<00:00,  2.67it/s]\n",
            "  0%|          | 0/218 [00:00<?, ?it/s]"
          ],
          "name": "stderr"
        },
        {
          "output_type": "stream",
          "text": [
            "\n",
            "Epoch : 203, mean loss : 5388.08\n",
            "Beginning epoch 204\n"
          ],
          "name": "stdout"
        },
        {
          "output_type": "stream",
          "text": [
            "100%|██████████| 218/218 [01:22<00:00,  2.66it/s]\n",
            "  0%|          | 0/218 [00:00<?, ?it/s]"
          ],
          "name": "stderr"
        },
        {
          "output_type": "stream",
          "text": [
            "\n",
            "Epoch : 204, mean loss : 5369.27\n",
            "Beginning epoch 205\n"
          ],
          "name": "stdout"
        },
        {
          "output_type": "stream",
          "text": [
            "100%|██████████| 218/218 [01:21<00:00,  2.68it/s]\n",
            "  0%|          | 0/218 [00:00<?, ?it/s]"
          ],
          "name": "stderr"
        },
        {
          "output_type": "stream",
          "text": [
            "\n",
            "Epoch : 205, mean loss : 5350.66\n",
            "Beginning epoch 206\n"
          ],
          "name": "stdout"
        },
        {
          "output_type": "stream",
          "text": [
            "100%|██████████| 218/218 [01:21<00:00,  2.69it/s]\n",
            "  0%|          | 0/218 [00:00<?, ?it/s]"
          ],
          "name": "stderr"
        },
        {
          "output_type": "stream",
          "text": [
            "\n",
            "Epoch : 206, mean loss : 5332.20\n",
            "Beginning epoch 207\n"
          ],
          "name": "stdout"
        },
        {
          "output_type": "stream",
          "text": [
            "100%|██████████| 218/218 [01:21<00:00,  2.68it/s]\n",
            "  0%|          | 0/218 [00:00<?, ?it/s]"
          ],
          "name": "stderr"
        },
        {
          "output_type": "stream",
          "text": [
            "\n",
            "Epoch : 207, mean loss : 5313.89\n",
            "Beginning epoch 208\n"
          ],
          "name": "stdout"
        },
        {
          "output_type": "stream",
          "text": [
            "100%|██████████| 218/218 [01:21<00:00,  2.69it/s]\n",
            "  0%|          | 0/218 [00:00<?, ?it/s]"
          ],
          "name": "stderr"
        },
        {
          "output_type": "stream",
          "text": [
            "\n",
            "Epoch : 208, mean loss : 5295.76\n",
            "Beginning epoch 209\n"
          ],
          "name": "stdout"
        },
        {
          "output_type": "stream",
          "text": [
            "100%|██████████| 218/218 [01:20<00:00,  2.69it/s]\n",
            "  0%|          | 0/218 [00:00<?, ?it/s]"
          ],
          "name": "stderr"
        },
        {
          "output_type": "stream",
          "text": [
            "\n",
            "Epoch : 209, mean loss : 5277.74\n",
            "Beginning epoch 210\n"
          ],
          "name": "stdout"
        },
        {
          "output_type": "stream",
          "text": [
            "100%|██████████| 218/218 [01:20<00:00,  2.71it/s]\n",
            "  0%|          | 0/218 [00:00<?, ?it/s]"
          ],
          "name": "stderr"
        },
        {
          "output_type": "stream",
          "text": [
            "\n",
            "Epoch : 210, mean loss : 5259.88\n",
            "Beginning epoch 211\n"
          ],
          "name": "stdout"
        },
        {
          "output_type": "stream",
          "text": [
            "100%|██████████| 218/218 [01:20<00:00,  2.70it/s]\n",
            "  0%|          | 0/218 [00:00<?, ?it/s]"
          ],
          "name": "stderr"
        },
        {
          "output_type": "stream",
          "text": [
            "\n",
            "Epoch : 211, mean loss : 5242.13\n",
            "Beginning epoch 212\n"
          ],
          "name": "stdout"
        },
        {
          "output_type": "stream",
          "text": [
            "100%|██████████| 218/218 [01:20<00:00,  2.70it/s]\n",
            "  0%|          | 0/218 [00:00<?, ?it/s]"
          ],
          "name": "stderr"
        },
        {
          "output_type": "stream",
          "text": [
            "\n",
            "Epoch : 212, mean loss : 5224.51\n",
            "Beginning epoch 213\n"
          ],
          "name": "stdout"
        },
        {
          "output_type": "stream",
          "text": [
            "100%|██████████| 218/218 [01:20<00:00,  2.71it/s]\n",
            "  0%|          | 0/218 [00:00<?, ?it/s]"
          ],
          "name": "stderr"
        },
        {
          "output_type": "stream",
          "text": [
            "\n",
            "Epoch : 213, mean loss : 5207.07\n",
            "Beginning epoch 214\n"
          ],
          "name": "stdout"
        },
        {
          "output_type": "stream",
          "text": [
            "100%|██████████| 218/218 [01:20<00:00,  2.70it/s]\n",
            "  0%|          | 0/218 [00:00<?, ?it/s]"
          ],
          "name": "stderr"
        },
        {
          "output_type": "stream",
          "text": [
            "\n",
            "Epoch : 214, mean loss : 5189.80\n",
            "Beginning epoch 215\n"
          ],
          "name": "stdout"
        },
        {
          "output_type": "stream",
          "text": [
            "100%|██████████| 218/218 [01:21<00:00,  2.69it/s]\n",
            "  0%|          | 0/218 [00:00<?, ?it/s]"
          ],
          "name": "stderr"
        },
        {
          "output_type": "stream",
          "text": [
            "\n",
            "Epoch : 215, mean loss : 5172.64\n",
            "Beginning epoch 216\n"
          ],
          "name": "stdout"
        },
        {
          "output_type": "stream",
          "text": [
            "100%|██████████| 218/218 [01:21<00:00,  2.67it/s]\n",
            "  0%|          | 0/218 [00:00<?, ?it/s]"
          ],
          "name": "stderr"
        },
        {
          "output_type": "stream",
          "text": [
            "\n",
            "Epoch : 216, mean loss : 5155.55\n",
            "Beginning epoch 217\n"
          ],
          "name": "stdout"
        },
        {
          "output_type": "stream",
          "text": [
            "100%|██████████| 218/218 [01:20<00:00,  2.70it/s]\n",
            "  0%|          | 0/218 [00:00<?, ?it/s]"
          ],
          "name": "stderr"
        },
        {
          "output_type": "stream",
          "text": [
            "\n",
            "Epoch : 217, mean loss : 5138.63\n",
            "Beginning epoch 218\n"
          ],
          "name": "stdout"
        },
        {
          "output_type": "stream",
          "text": [
            "100%|██████████| 218/218 [01:20<00:00,  2.70it/s]\n",
            "  0%|          | 0/218 [00:00<?, ?it/s]"
          ],
          "name": "stderr"
        },
        {
          "output_type": "stream",
          "text": [
            "\n",
            "Epoch : 218, mean loss : 5121.84\n",
            "Beginning epoch 219\n"
          ],
          "name": "stdout"
        },
        {
          "output_type": "stream",
          "text": [
            "100%|██████████| 218/218 [01:20<00:00,  2.70it/s]\n",
            "  0%|          | 0/218 [00:00<?, ?it/s]"
          ],
          "name": "stderr"
        },
        {
          "output_type": "stream",
          "text": [
            "\n",
            "Epoch : 219, mean loss : 5105.14\n",
            "Beginning epoch 220\n"
          ],
          "name": "stdout"
        },
        {
          "output_type": "stream",
          "text": [
            "100%|██████████| 218/218 [01:20<00:00,  2.71it/s]\n",
            "  0%|          | 0/218 [00:00<?, ?it/s]"
          ],
          "name": "stderr"
        },
        {
          "output_type": "stream",
          "text": [
            "\n",
            "Epoch : 220, mean loss : 5088.62\n",
            "Beginning epoch 221\n"
          ],
          "name": "stdout"
        },
        {
          "output_type": "stream",
          "text": [
            "100%|██████████| 218/218 [01:20<00:00,  2.70it/s]\n",
            "  0%|          | 0/218 [00:00<?, ?it/s]"
          ],
          "name": "stderr"
        },
        {
          "output_type": "stream",
          "text": [
            "\n",
            "Epoch : 221, mean loss : 5072.22\n",
            "Beginning epoch 222\n"
          ],
          "name": "stdout"
        },
        {
          "output_type": "stream",
          "text": [
            "100%|██████████| 218/218 [01:20<00:00,  2.71it/s]\n",
            "  0%|          | 0/218 [00:00<?, ?it/s]"
          ],
          "name": "stderr"
        },
        {
          "output_type": "stream",
          "text": [
            "\n",
            "Epoch : 222, mean loss : 5055.93\n",
            "Beginning epoch 223\n"
          ],
          "name": "stdout"
        },
        {
          "output_type": "stream",
          "text": [
            "100%|██████████| 218/218 [01:22<00:00,  2.66it/s]\n",
            "  0%|          | 0/218 [00:00<?, ?it/s]"
          ],
          "name": "stderr"
        },
        {
          "output_type": "stream",
          "text": [
            "\n",
            "Epoch : 223, mean loss : 5039.75\n",
            "Beginning epoch 224\n"
          ],
          "name": "stdout"
        },
        {
          "output_type": "stream",
          "text": [
            "100%|██████████| 218/218 [01:22<00:00,  2.63it/s]\n",
            "  0%|          | 0/218 [00:00<?, ?it/s]"
          ],
          "name": "stderr"
        },
        {
          "output_type": "stream",
          "text": [
            "\n",
            "Epoch : 224, mean loss : 5023.72\n",
            "Beginning epoch 225\n"
          ],
          "name": "stdout"
        },
        {
          "output_type": "stream",
          "text": [
            "100%|██████████| 218/218 [01:21<00:00,  2.66it/s]\n",
            "  0%|          | 0/218 [00:00<?, ?it/s]"
          ],
          "name": "stderr"
        },
        {
          "output_type": "stream",
          "text": [
            "\n",
            "Epoch : 225, mean loss : 5007.75\n",
            "Beginning epoch 226\n"
          ],
          "name": "stdout"
        },
        {
          "output_type": "stream",
          "text": [
            "100%|██████████| 218/218 [01:22<00:00,  2.65it/s]\n",
            "  0%|          | 0/218 [00:00<?, ?it/s]"
          ],
          "name": "stderr"
        },
        {
          "output_type": "stream",
          "text": [
            "\n",
            "Epoch : 226, mean loss : 4991.95\n",
            "Beginning epoch 227\n"
          ],
          "name": "stdout"
        },
        {
          "output_type": "stream",
          "text": [
            "100%|██████████| 218/218 [01:21<00:00,  2.67it/s]\n",
            "  0%|          | 0/218 [00:00<?, ?it/s]"
          ],
          "name": "stderr"
        },
        {
          "output_type": "stream",
          "text": [
            "\n",
            "Epoch : 227, mean loss : 4976.26\n",
            "Beginning epoch 228\n"
          ],
          "name": "stdout"
        },
        {
          "output_type": "stream",
          "text": [
            "100%|██████████| 218/218 [01:21<00:00,  2.66it/s]\n",
            "  0%|          | 0/218 [00:00<?, ?it/s]"
          ],
          "name": "stderr"
        },
        {
          "output_type": "stream",
          "text": [
            "\n",
            "Epoch : 228, mean loss : 4960.67\n",
            "Beginning epoch 229\n"
          ],
          "name": "stdout"
        },
        {
          "output_type": "stream",
          "text": [
            "100%|██████████| 218/218 [01:21<00:00,  2.67it/s]\n",
            "  0%|          | 0/218 [00:00<?, ?it/s]"
          ],
          "name": "stderr"
        },
        {
          "output_type": "stream",
          "text": [
            "\n",
            "Epoch : 229, mean loss : 4945.19\n",
            "Beginning epoch 230\n"
          ],
          "name": "stdout"
        },
        {
          "output_type": "stream",
          "text": [
            "100%|██████████| 218/218 [01:22<00:00,  2.65it/s]\n",
            "  0%|          | 0/218 [00:00<?, ?it/s]"
          ],
          "name": "stderr"
        },
        {
          "output_type": "stream",
          "text": [
            "\n",
            "Epoch : 230, mean loss : 4929.85\n",
            "Beginning epoch 231\n"
          ],
          "name": "stdout"
        },
        {
          "output_type": "stream",
          "text": [
            "100%|██████████| 218/218 [01:22<00:00,  2.66it/s]\n",
            "  0%|          | 0/218 [00:00<?, ?it/s]"
          ],
          "name": "stderr"
        },
        {
          "output_type": "stream",
          "text": [
            "\n",
            "Epoch : 231, mean loss : 4914.60\n",
            "Beginning epoch 232\n"
          ],
          "name": "stdout"
        },
        {
          "output_type": "stream",
          "text": [
            "100%|██████████| 218/218 [01:21<00:00,  2.67it/s]\n",
            "  0%|          | 0/218 [00:00<?, ?it/s]"
          ],
          "name": "stderr"
        },
        {
          "output_type": "stream",
          "text": [
            "\n",
            "Epoch : 232, mean loss : 4899.47\n",
            "Beginning epoch 233\n"
          ],
          "name": "stdout"
        },
        {
          "output_type": "stream",
          "text": [
            "100%|██████████| 218/218 [01:21<00:00,  2.66it/s]\n",
            "  0%|          | 0/218 [00:00<?, ?it/s]"
          ],
          "name": "stderr"
        },
        {
          "output_type": "stream",
          "text": [
            "\n",
            "Epoch : 233, mean loss : 4884.41\n",
            "Beginning epoch 234\n"
          ],
          "name": "stdout"
        },
        {
          "output_type": "stream",
          "text": [
            "100%|██████████| 218/218 [01:21<00:00,  2.69it/s]\n",
            "  0%|          | 0/218 [00:00<?, ?it/s]"
          ],
          "name": "stderr"
        },
        {
          "output_type": "stream",
          "text": [
            "\n",
            "Epoch : 234, mean loss : 4869.50\n",
            "Beginning epoch 235\n"
          ],
          "name": "stdout"
        },
        {
          "output_type": "stream",
          "text": [
            "100%|██████████| 218/218 [01:21<00:00,  2.69it/s]\n",
            "  0%|          | 0/218 [00:00<?, ?it/s]"
          ],
          "name": "stderr"
        },
        {
          "output_type": "stream",
          "text": [
            "\n",
            "Epoch : 235, mean loss : 4854.70\n",
            "Beginning epoch 236\n"
          ],
          "name": "stdout"
        },
        {
          "output_type": "stream",
          "text": [
            "100%|██████████| 218/218 [01:21<00:00,  2.69it/s]\n",
            "  0%|          | 0/218 [00:00<?, ?it/s]"
          ],
          "name": "stderr"
        },
        {
          "output_type": "stream",
          "text": [
            "\n",
            "Epoch : 236, mean loss : 4840.01\n",
            "Beginning epoch 237\n"
          ],
          "name": "stdout"
        },
        {
          "output_type": "stream",
          "text": [
            "100%|██████████| 218/218 [01:21<00:00,  2.69it/s]\n",
            "  0%|          | 0/218 [00:00<?, ?it/s]"
          ],
          "name": "stderr"
        },
        {
          "output_type": "stream",
          "text": [
            "\n",
            "Epoch : 237, mean loss : 4825.44\n",
            "Beginning epoch 238\n"
          ],
          "name": "stdout"
        },
        {
          "output_type": "stream",
          "text": [
            "100%|██████████| 218/218 [01:20<00:00,  2.69it/s]\n",
            "  0%|          | 0/218 [00:00<?, ?it/s]"
          ],
          "name": "stderr"
        },
        {
          "output_type": "stream",
          "text": [
            "\n",
            "Epoch : 238, mean loss : 4810.95\n",
            "Beginning epoch 239\n"
          ],
          "name": "stdout"
        },
        {
          "output_type": "stream",
          "text": [
            "100%|██████████| 218/218 [01:20<00:00,  2.71it/s]\n",
            "  0%|          | 0/218 [00:00<?, ?it/s]"
          ],
          "name": "stderr"
        },
        {
          "output_type": "stream",
          "text": [
            "\n",
            "Epoch : 239, mean loss : 4796.58\n",
            "Beginning epoch 240\n"
          ],
          "name": "stdout"
        },
        {
          "output_type": "stream",
          "text": [
            "100%|██████████| 218/218 [01:20<00:00,  2.71it/s]\n",
            "  0%|          | 0/218 [00:00<?, ?it/s]"
          ],
          "name": "stderr"
        },
        {
          "output_type": "stream",
          "text": [
            "\n",
            "Epoch : 240, mean loss : 4782.32\n",
            "Beginning epoch 241\n"
          ],
          "name": "stdout"
        },
        {
          "output_type": "stream",
          "text": [
            "100%|██████████| 218/218 [01:21<00:00,  2.67it/s]\n",
            "  0%|          | 0/218 [00:00<?, ?it/s]"
          ],
          "name": "stderr"
        },
        {
          "output_type": "stream",
          "text": [
            "\n",
            "Epoch : 241, mean loss : 4768.13\n",
            "Beginning epoch 242\n"
          ],
          "name": "stdout"
        },
        {
          "output_type": "stream",
          "text": [
            "100%|██████████| 218/218 [01:21<00:00,  2.69it/s]\n",
            "  0%|          | 0/218 [00:00<?, ?it/s]"
          ],
          "name": "stderr"
        },
        {
          "output_type": "stream",
          "text": [
            "\n",
            "Epoch : 242, mean loss : 4754.06\n",
            "Beginning epoch 243\n"
          ],
          "name": "stdout"
        },
        {
          "output_type": "stream",
          "text": [
            "100%|██████████| 218/218 [01:20<00:00,  2.70it/s]\n",
            "  0%|          | 0/218 [00:00<?, ?it/s]"
          ],
          "name": "stderr"
        },
        {
          "output_type": "stream",
          "text": [
            "\n",
            "Epoch : 243, mean loss : 4740.06\n",
            "Beginning epoch 244\n"
          ],
          "name": "stdout"
        },
        {
          "output_type": "stream",
          "text": [
            "100%|██████████| 218/218 [01:21<00:00,  2.67it/s]\n",
            "  0%|          | 0/218 [00:00<?, ?it/s]"
          ],
          "name": "stderr"
        },
        {
          "output_type": "stream",
          "text": [
            "\n",
            "Epoch : 244, mean loss : 4726.18\n",
            "Beginning epoch 245\n"
          ],
          "name": "stdout"
        },
        {
          "output_type": "stream",
          "text": [
            "100%|██████████| 218/218 [01:21<00:00,  2.66it/s]\n",
            "  0%|          | 0/218 [00:00<?, ?it/s]"
          ],
          "name": "stderr"
        },
        {
          "output_type": "stream",
          "text": [
            "\n",
            "Epoch : 245, mean loss : 4712.37\n",
            "Beginning epoch 246\n"
          ],
          "name": "stdout"
        },
        {
          "output_type": "stream",
          "text": [
            "100%|██████████| 218/218 [01:21<00:00,  2.67it/s]\n",
            "  0%|          | 0/218 [00:00<?, ?it/s]"
          ],
          "name": "stderr"
        },
        {
          "output_type": "stream",
          "text": [
            "\n",
            "Epoch : 246, mean loss : 4698.65\n",
            "Beginning epoch 247\n"
          ],
          "name": "stdout"
        },
        {
          "output_type": "stream",
          "text": [
            "100%|██████████| 218/218 [01:21<00:00,  2.67it/s]\n",
            "  0%|          | 0/218 [00:00<?, ?it/s]"
          ],
          "name": "stderr"
        },
        {
          "output_type": "stream",
          "text": [
            "\n",
            "Epoch : 247, mean loss : 4685.03\n",
            "Beginning epoch 248\n"
          ],
          "name": "stdout"
        },
        {
          "output_type": "stream",
          "text": [
            "100%|██████████| 218/218 [01:22<00:00,  2.65it/s]\n",
            "  0%|          | 0/218 [00:00<?, ?it/s]"
          ],
          "name": "stderr"
        },
        {
          "output_type": "stream",
          "text": [
            "\n",
            "Epoch : 248, mean loss : 4671.51\n",
            "Beginning epoch 249\n"
          ],
          "name": "stdout"
        },
        {
          "output_type": "stream",
          "text": [
            "100%|██████████| 218/218 [01:21<00:00,  2.67it/s]\n",
            "  0%|          | 0/218 [00:00<?, ?it/s]"
          ],
          "name": "stderr"
        },
        {
          "output_type": "stream",
          "text": [
            "\n",
            "Epoch : 249, mean loss : 4658.09\n",
            "Beginning epoch 250\n"
          ],
          "name": "stdout"
        },
        {
          "output_type": "stream",
          "text": [
            "100%|██████████| 218/218 [01:21<00:00,  2.67it/s]\n",
            "  0%|          | 0/218 [00:00<?, ?it/s]"
          ],
          "name": "stderr"
        },
        {
          "output_type": "stream",
          "text": [
            "\n",
            "Epoch : 250, mean loss : 4644.76\n",
            "Beginning epoch 251\n"
          ],
          "name": "stdout"
        },
        {
          "output_type": "stream",
          "text": [
            "100%|██████████| 218/218 [01:21<00:00,  2.68it/s]\n",
            "  0%|          | 0/218 [00:00<?, ?it/s]"
          ],
          "name": "stderr"
        },
        {
          "output_type": "stream",
          "text": [
            "\n",
            "Epoch : 251, mean loss : 4631.51\n",
            "Beginning epoch 252\n"
          ],
          "name": "stdout"
        },
        {
          "output_type": "stream",
          "text": [
            "100%|██████████| 218/218 [01:21<00:00,  2.66it/s]\n",
            "  0%|          | 0/218 [00:00<?, ?it/s]"
          ],
          "name": "stderr"
        },
        {
          "output_type": "stream",
          "text": [
            "\n",
            "Epoch : 252, mean loss : 4618.36\n",
            "Beginning epoch 253\n"
          ],
          "name": "stdout"
        },
        {
          "output_type": "stream",
          "text": [
            "100%|██████████| 218/218 [01:21<00:00,  2.66it/s]\n",
            "  0%|          | 0/218 [00:00<?, ?it/s]"
          ],
          "name": "stderr"
        },
        {
          "output_type": "stream",
          "text": [
            "\n",
            "Epoch : 253, mean loss : 4605.29\n",
            "Beginning epoch 254\n"
          ],
          "name": "stdout"
        },
        {
          "output_type": "stream",
          "text": [
            "100%|██████████| 218/218 [01:21<00:00,  2.68it/s]\n",
            "  0%|          | 0/218 [00:00<?, ?it/s]"
          ],
          "name": "stderr"
        },
        {
          "output_type": "stream",
          "text": [
            "\n",
            "Epoch : 254, mean loss : 4592.30\n",
            "Beginning epoch 255\n"
          ],
          "name": "stdout"
        },
        {
          "output_type": "stream",
          "text": [
            "100%|██████████| 218/218 [01:20<00:00,  2.69it/s]\n",
            "  0%|          | 0/218 [00:00<?, ?it/s]"
          ],
          "name": "stderr"
        },
        {
          "output_type": "stream",
          "text": [
            "\n",
            "Epoch : 255, mean loss : 4579.41\n",
            "Beginning epoch 256\n"
          ],
          "name": "stdout"
        },
        {
          "output_type": "stream",
          "text": [
            "100%|██████████| 218/218 [01:20<00:00,  2.70it/s]\n",
            "  0%|          | 0/218 [00:00<?, ?it/s]"
          ],
          "name": "stderr"
        },
        {
          "output_type": "stream",
          "text": [
            "\n",
            "Epoch : 256, mean loss : 4566.61\n",
            "Beginning epoch 257\n"
          ],
          "name": "stdout"
        },
        {
          "output_type": "stream",
          "text": [
            "100%|██████████| 218/218 [01:20<00:00,  2.71it/s]\n",
            "  0%|          | 0/218 [00:00<?, ?it/s]"
          ],
          "name": "stderr"
        },
        {
          "output_type": "stream",
          "text": [
            "\n",
            "Epoch : 257, mean loss : 4553.88\n",
            "Beginning epoch 258\n"
          ],
          "name": "stdout"
        },
        {
          "output_type": "stream",
          "text": [
            "100%|██████████| 218/218 [01:20<00:00,  2.72it/s]\n",
            "  0%|          | 0/218 [00:00<?, ?it/s]"
          ],
          "name": "stderr"
        },
        {
          "output_type": "stream",
          "text": [
            "\n",
            "Epoch : 258, mean loss : 4541.22\n",
            "Beginning epoch 259\n"
          ],
          "name": "stdout"
        },
        {
          "output_type": "stream",
          "text": [
            "100%|██████████| 218/218 [01:20<00:00,  2.70it/s]\n",
            "  0%|          | 0/218 [00:00<?, ?it/s]"
          ],
          "name": "stderr"
        },
        {
          "output_type": "stream",
          "text": [
            "\n",
            "Epoch : 259, mean loss : 4528.63\n",
            "Beginning epoch 260\n"
          ],
          "name": "stdout"
        },
        {
          "output_type": "stream",
          "text": [
            "100%|██████████| 218/218 [01:20<00:00,  2.70it/s]\n",
            "  0%|          | 0/218 [00:00<?, ?it/s]"
          ],
          "name": "stderr"
        },
        {
          "output_type": "stream",
          "text": [
            "\n",
            "Epoch : 260, mean loss : 4516.18\n",
            "Beginning epoch 261\n"
          ],
          "name": "stdout"
        },
        {
          "output_type": "stream",
          "text": [
            "100%|██████████| 218/218 [01:20<00:00,  2.72it/s]\n",
            "  0%|          | 0/218 [00:00<?, ?it/s]"
          ],
          "name": "stderr"
        },
        {
          "output_type": "stream",
          "text": [
            "\n",
            "Epoch : 261, mean loss : 4503.76\n",
            "Beginning epoch 262\n"
          ],
          "name": "stdout"
        },
        {
          "output_type": "stream",
          "text": [
            "100%|██████████| 218/218 [01:20<00:00,  2.70it/s]\n",
            "  0%|          | 0/218 [00:00<?, ?it/s]"
          ],
          "name": "stderr"
        },
        {
          "output_type": "stream",
          "text": [
            "\n",
            "Epoch : 262, mean loss : 4491.43\n",
            "Beginning epoch 263\n"
          ],
          "name": "stdout"
        },
        {
          "output_type": "stream",
          "text": [
            "100%|██████████| 218/218 [01:20<00:00,  2.71it/s]\n",
            "  0%|          | 0/218 [00:00<?, ?it/s]"
          ],
          "name": "stderr"
        },
        {
          "output_type": "stream",
          "text": [
            "\n",
            "Epoch : 263, mean loss : 4479.18\n",
            "Beginning epoch 264\n"
          ],
          "name": "stdout"
        },
        {
          "output_type": "stream",
          "text": [
            "100%|██████████| 218/218 [01:20<00:00,  2.71it/s]\n",
            "  0%|          | 0/218 [00:00<?, ?it/s]"
          ],
          "name": "stderr"
        },
        {
          "output_type": "stream",
          "text": [
            "\n",
            "Epoch : 264, mean loss : 4467.04\n",
            "Beginning epoch 265\n"
          ],
          "name": "stdout"
        },
        {
          "output_type": "stream",
          "text": [
            "100%|██████████| 218/218 [01:20<00:00,  2.72it/s]\n",
            "  0%|          | 0/218 [00:00<?, ?it/s]"
          ],
          "name": "stderr"
        },
        {
          "output_type": "stream",
          "text": [
            "\n",
            "Epoch : 265, mean loss : 4454.96\n",
            "Beginning epoch 266\n"
          ],
          "name": "stdout"
        },
        {
          "output_type": "stream",
          "text": [
            "100%|██████████| 218/218 [01:20<00:00,  2.72it/s]\n",
            "  0%|          | 0/218 [00:00<?, ?it/s]"
          ],
          "name": "stderr"
        },
        {
          "output_type": "stream",
          "text": [
            "\n",
            "Epoch : 266, mean loss : 4442.94\n",
            "Beginning epoch 267\n"
          ],
          "name": "stdout"
        },
        {
          "output_type": "stream",
          "text": [
            "100%|██████████| 218/218 [01:20<00:00,  2.71it/s]\n",
            "  0%|          | 0/218 [00:00<?, ?it/s]"
          ],
          "name": "stderr"
        },
        {
          "output_type": "stream",
          "text": [
            "\n",
            "Epoch : 267, mean loss : 4431.00\n",
            "Beginning epoch 268\n"
          ],
          "name": "stdout"
        },
        {
          "output_type": "stream",
          "text": [
            "100%|██████████| 218/218 [01:20<00:00,  2.72it/s]\n",
            "  0%|          | 0/218 [00:00<?, ?it/s]"
          ],
          "name": "stderr"
        },
        {
          "output_type": "stream",
          "text": [
            "\n",
            "Epoch : 268, mean loss : 4419.13\n",
            "Beginning epoch 269\n"
          ],
          "name": "stdout"
        },
        {
          "output_type": "stream",
          "text": [
            "100%|██████████| 218/218 [01:20<00:00,  2.70it/s]\n",
            "  0%|          | 0/218 [00:00<?, ?it/s]"
          ],
          "name": "stderr"
        },
        {
          "output_type": "stream",
          "text": [
            "\n",
            "Epoch : 269, mean loss : 4407.38\n",
            "Beginning epoch 270\n"
          ],
          "name": "stdout"
        },
        {
          "output_type": "stream",
          "text": [
            "100%|██████████| 218/218 [01:20<00:00,  2.70it/s]\n",
            "  0%|          | 0/218 [00:00<?, ?it/s]"
          ],
          "name": "stderr"
        },
        {
          "output_type": "stream",
          "text": [
            "\n",
            "Epoch : 270, mean loss : 4395.68\n",
            "Beginning epoch 271\n"
          ],
          "name": "stdout"
        },
        {
          "output_type": "stream",
          "text": [
            "100%|██████████| 218/218 [01:20<00:00,  2.70it/s]\n",
            "  0%|          | 0/218 [00:00<?, ?it/s]"
          ],
          "name": "stderr"
        },
        {
          "output_type": "stream",
          "text": [
            "\n",
            "Epoch : 271, mean loss : 4384.05\n",
            "Beginning epoch 272\n"
          ],
          "name": "stdout"
        },
        {
          "output_type": "stream",
          "text": [
            "100%|██████████| 218/218 [01:20<00:00,  2.71it/s]\n",
            "  0%|          | 0/218 [00:00<?, ?it/s]"
          ],
          "name": "stderr"
        },
        {
          "output_type": "stream",
          "text": [
            "\n",
            "Epoch : 272, mean loss : 4372.49\n",
            "Beginning epoch 273\n"
          ],
          "name": "stdout"
        },
        {
          "output_type": "stream",
          "text": [
            "100%|██████████| 218/218 [01:20<00:00,  2.72it/s]\n",
            "  0%|          | 0/218 [00:00<?, ?it/s]"
          ],
          "name": "stderr"
        },
        {
          "output_type": "stream",
          "text": [
            "\n",
            "Epoch : 273, mean loss : 4361.01\n",
            "Beginning epoch 274\n"
          ],
          "name": "stdout"
        },
        {
          "output_type": "stream",
          "text": [
            "100%|██████████| 218/218 [01:20<00:00,  2.71it/s]\n",
            "  0%|          | 0/218 [00:00<?, ?it/s]"
          ],
          "name": "stderr"
        },
        {
          "output_type": "stream",
          "text": [
            "\n",
            "Epoch : 274, mean loss : 4349.58\n",
            "Beginning epoch 275\n"
          ],
          "name": "stdout"
        },
        {
          "output_type": "stream",
          "text": [
            "100%|██████████| 218/218 [01:20<00:00,  2.71it/s]\n",
            "  0%|          | 0/218 [00:00<?, ?it/s]"
          ],
          "name": "stderr"
        },
        {
          "output_type": "stream",
          "text": [
            "\n",
            "Epoch : 275, mean loss : 4338.22\n",
            "Beginning epoch 276\n"
          ],
          "name": "stdout"
        },
        {
          "output_type": "stream",
          "text": [
            "100%|██████████| 218/218 [01:20<00:00,  2.70it/s]\n",
            "  0%|          | 0/218 [00:00<?, ?it/s]"
          ],
          "name": "stderr"
        },
        {
          "output_type": "stream",
          "text": [
            "\n",
            "Epoch : 276, mean loss : 4326.95\n",
            "Beginning epoch 277\n"
          ],
          "name": "stdout"
        },
        {
          "output_type": "stream",
          "text": [
            "100%|██████████| 218/218 [01:20<00:00,  2.70it/s]\n",
            "  0%|          | 0/218 [00:00<?, ?it/s]"
          ],
          "name": "stderr"
        },
        {
          "output_type": "stream",
          "text": [
            "\n",
            "Epoch : 277, mean loss : 4315.75\n",
            "Beginning epoch 278\n"
          ],
          "name": "stdout"
        },
        {
          "output_type": "stream",
          "text": [
            "100%|██████████| 218/218 [01:20<00:00,  2.71it/s]\n",
            "  0%|          | 0/218 [00:00<?, ?it/s]"
          ],
          "name": "stderr"
        },
        {
          "output_type": "stream",
          "text": [
            "\n",
            "Epoch : 278, mean loss : 4304.57\n",
            "Beginning epoch 279\n"
          ],
          "name": "stdout"
        },
        {
          "output_type": "stream",
          "text": [
            "100%|██████████| 218/218 [01:20<00:00,  2.72it/s]\n",
            "  0%|          | 0/218 [00:00<?, ?it/s]"
          ],
          "name": "stderr"
        },
        {
          "output_type": "stream",
          "text": [
            "\n",
            "Epoch : 279, mean loss : 4293.48\n",
            "Beginning epoch 280\n"
          ],
          "name": "stdout"
        },
        {
          "output_type": "stream",
          "text": [
            "100%|██████████| 218/218 [01:21<00:00,  2.68it/s]\n",
            "  0%|          | 0/218 [00:00<?, ?it/s]"
          ],
          "name": "stderr"
        },
        {
          "output_type": "stream",
          "text": [
            "\n",
            "Epoch : 280, mean loss : 4282.44\n",
            "Beginning epoch 281\n"
          ],
          "name": "stdout"
        },
        {
          "output_type": "stream",
          "text": [
            "100%|██████████| 218/218 [01:20<00:00,  2.71it/s]\n",
            "  0%|          | 0/218 [00:00<?, ?it/s]"
          ],
          "name": "stderr"
        },
        {
          "output_type": "stream",
          "text": [
            "\n",
            "Epoch : 281, mean loss : 4271.50\n",
            "Beginning epoch 282\n"
          ],
          "name": "stdout"
        },
        {
          "output_type": "stream",
          "text": [
            "100%|██████████| 218/218 [01:20<00:00,  2.71it/s]\n",
            "  0%|          | 0/218 [00:00<?, ?it/s]"
          ],
          "name": "stderr"
        },
        {
          "output_type": "stream",
          "text": [
            "\n",
            "Epoch : 282, mean loss : 4260.62\n",
            "Beginning epoch 283\n"
          ],
          "name": "stdout"
        },
        {
          "output_type": "stream",
          "text": [
            "100%|██████████| 218/218 [01:20<00:00,  2.70it/s]\n",
            "  0%|          | 0/218 [00:00<?, ?it/s]"
          ],
          "name": "stderr"
        },
        {
          "output_type": "stream",
          "text": [
            "\n",
            "Epoch : 283, mean loss : 4249.81\n",
            "Beginning epoch 284\n"
          ],
          "name": "stdout"
        },
        {
          "output_type": "stream",
          "text": [
            "100%|██████████| 218/218 [01:20<00:00,  2.69it/s]\n",
            "  0%|          | 0/218 [00:00<?, ?it/s]"
          ],
          "name": "stderr"
        },
        {
          "output_type": "stream",
          "text": [
            "\n",
            "Epoch : 284, mean loss : 4239.04\n",
            "Beginning epoch 285\n"
          ],
          "name": "stdout"
        },
        {
          "output_type": "stream",
          "text": [
            "100%|██████████| 218/218 [01:20<00:00,  2.70it/s]\n",
            "  0%|          | 0/218 [00:00<?, ?it/s]"
          ],
          "name": "stderr"
        },
        {
          "output_type": "stream",
          "text": [
            "\n",
            "Epoch : 285, mean loss : 4228.32\n",
            "Beginning epoch 286\n"
          ],
          "name": "stdout"
        },
        {
          "output_type": "stream",
          "text": [
            "100%|██████████| 218/218 [01:20<00:00,  2.69it/s]\n",
            "  0%|          | 0/218 [00:00<?, ?it/s]"
          ],
          "name": "stderr"
        },
        {
          "output_type": "stream",
          "text": [
            "\n",
            "Epoch : 286, mean loss : 4217.69\n",
            "Beginning epoch 287\n"
          ],
          "name": "stdout"
        },
        {
          "output_type": "stream",
          "text": [
            "100%|██████████| 218/218 [01:21<00:00,  2.66it/s]\n",
            "  0%|          | 0/218 [00:00<?, ?it/s]"
          ],
          "name": "stderr"
        },
        {
          "output_type": "stream",
          "text": [
            "\n",
            "Epoch : 287, mean loss : 4207.11\n",
            "Beginning epoch 288\n"
          ],
          "name": "stdout"
        },
        {
          "output_type": "stream",
          "text": [
            "100%|██████████| 218/218 [01:23<00:00,  2.61it/s]\n",
            "  0%|          | 0/218 [00:00<?, ?it/s]"
          ],
          "name": "stderr"
        },
        {
          "output_type": "stream",
          "text": [
            "\n",
            "Epoch : 288, mean loss : 4196.61\n",
            "Beginning epoch 289\n"
          ],
          "name": "stdout"
        },
        {
          "output_type": "stream",
          "text": [
            "100%|██████████| 218/218 [01:22<00:00,  2.64it/s]\n",
            "  0%|          | 0/218 [00:00<?, ?it/s]"
          ],
          "name": "stderr"
        },
        {
          "output_type": "stream",
          "text": [
            "\n",
            "Epoch : 289, mean loss : 4186.15\n",
            "Beginning epoch 290\n"
          ],
          "name": "stdout"
        },
        {
          "output_type": "stream",
          "text": [
            "100%|██████████| 218/218 [01:22<00:00,  2.63it/s]\n",
            "  0%|          | 0/218 [00:00<?, ?it/s]"
          ],
          "name": "stderr"
        },
        {
          "output_type": "stream",
          "text": [
            "\n",
            "Epoch : 290, mean loss : 4175.79\n",
            "Beginning epoch 291\n"
          ],
          "name": "stdout"
        },
        {
          "output_type": "stream",
          "text": [
            "100%|██████████| 218/218 [01:22<00:00,  2.65it/s]\n",
            "  0%|          | 0/218 [00:00<?, ?it/s]"
          ],
          "name": "stderr"
        },
        {
          "output_type": "stream",
          "text": [
            "\n",
            "Epoch : 291, mean loss : 4165.44\n",
            "Beginning epoch 292\n"
          ],
          "name": "stdout"
        },
        {
          "output_type": "stream",
          "text": [
            "100%|██████████| 218/218 [01:20<00:00,  2.70it/s]\n",
            "  0%|          | 0/218 [00:00<?, ?it/s]"
          ],
          "name": "stderr"
        },
        {
          "output_type": "stream",
          "text": [
            "\n",
            "Epoch : 292, mean loss : 4155.16\n",
            "Beginning epoch 293\n"
          ],
          "name": "stdout"
        },
        {
          "output_type": "stream",
          "text": [
            "100%|██████████| 218/218 [01:21<00:00,  2.69it/s]\n",
            "  0%|          | 0/218 [00:00<?, ?it/s]"
          ],
          "name": "stderr"
        },
        {
          "output_type": "stream",
          "text": [
            "\n",
            "Epoch : 293, mean loss : 4144.93\n",
            "Beginning epoch 294\n"
          ],
          "name": "stdout"
        },
        {
          "output_type": "stream",
          "text": [
            "100%|██████████| 218/218 [01:20<00:00,  2.72it/s]\n",
            "  0%|          | 0/218 [00:00<?, ?it/s]"
          ],
          "name": "stderr"
        },
        {
          "output_type": "stream",
          "text": [
            "\n",
            "Epoch : 294, mean loss : 4134.75\n",
            "Beginning epoch 295\n"
          ],
          "name": "stdout"
        },
        {
          "output_type": "stream",
          "text": [
            "100%|██████████| 218/218 [01:20<00:00,  2.70it/s]\n",
            "  0%|          | 0/218 [00:00<?, ?it/s]"
          ],
          "name": "stderr"
        },
        {
          "output_type": "stream",
          "text": [
            "\n",
            "Epoch : 295, mean loss : 4124.65\n",
            "Beginning epoch 296\n"
          ],
          "name": "stdout"
        },
        {
          "output_type": "stream",
          "text": [
            "100%|██████████| 218/218 [01:20<00:00,  2.70it/s]\n",
            "  0%|          | 0/218 [00:00<?, ?it/s]"
          ],
          "name": "stderr"
        },
        {
          "output_type": "stream",
          "text": [
            "\n",
            "Epoch : 296, mean loss : 4114.60\n",
            "Beginning epoch 297\n"
          ],
          "name": "stdout"
        },
        {
          "output_type": "stream",
          "text": [
            "100%|██████████| 218/218 [01:20<00:00,  2.71it/s]\n",
            "  0%|          | 0/218 [00:00<?, ?it/s]"
          ],
          "name": "stderr"
        },
        {
          "output_type": "stream",
          "text": [
            "\n",
            "Epoch : 297, mean loss : 4104.62\n",
            "Beginning epoch 298\n"
          ],
          "name": "stdout"
        },
        {
          "output_type": "stream",
          "text": [
            "100%|██████████| 218/218 [01:19<00:00,  2.73it/s]\n",
            "  0%|          | 0/218 [00:00<?, ?it/s]"
          ],
          "name": "stderr"
        },
        {
          "output_type": "stream",
          "text": [
            "\n",
            "Epoch : 298, mean loss : 4094.71\n",
            "Beginning epoch 299\n"
          ],
          "name": "stdout"
        },
        {
          "output_type": "stream",
          "text": [
            "100%|██████████| 218/218 [01:19<00:00,  2.73it/s]\n",
            "  0%|          | 0/218 [00:00<?, ?it/s]"
          ],
          "name": "stderr"
        },
        {
          "output_type": "stream",
          "text": [
            "\n",
            "Epoch : 299, mean loss : 4084.86\n",
            "Beginning epoch 300\n"
          ],
          "name": "stdout"
        },
        {
          "output_type": "stream",
          "text": [
            "100%|██████████| 218/218 [01:20<00:00,  2.72it/s]\n",
            "  0%|          | 0/218 [00:00<?, ?it/s]"
          ],
          "name": "stderr"
        },
        {
          "output_type": "stream",
          "text": [
            "\n",
            "Epoch : 300, mean loss : 4075.06\n",
            "Beginning epoch 301\n"
          ],
          "name": "stdout"
        },
        {
          "output_type": "stream",
          "text": [
            "100%|██████████| 218/218 [01:19<00:00,  2.73it/s]\n",
            "  0%|          | 0/218 [00:00<?, ?it/s]"
          ],
          "name": "stderr"
        },
        {
          "output_type": "stream",
          "text": [
            "\n",
            "Epoch : 301, mean loss : 4065.28\n",
            "Beginning epoch 302\n"
          ],
          "name": "stdout"
        },
        {
          "output_type": "stream",
          "text": [
            " 78%|███████▊  | 171/218 [01:02<00:17,  2.76it/s]"
          ],
          "name": "stderr"
        },
        {
          "output_type": "error",
          "ename": "KeyboardInterrupt",
          "evalue": "ignored",
          "traceback": [
            "\u001b[0;31m---------------------------------------------------------------------------\u001b[0m",
            "\u001b[0;31mKeyboardInterrupt\u001b[0m                         Traceback (most recent call last)",
            "\u001b[0;32m<ipython-input-15-fa57d1f89289>\u001b[0m in \u001b[0;36m<module>\u001b[0;34m()\u001b[0m\n\u001b[1;32m      1\u001b[0m \u001b[0;31m# \"we run 50 iterations for vectors smaller than 300 dimensions [...]\"\u001b[0m\u001b[0;34m\u001b[0m\u001b[0;34m\u001b[0m\u001b[0;34m\u001b[0m\u001b[0m\n\u001b[1;32m      2\u001b[0m \u001b[0mEPOCHS\u001b[0m \u001b[0;34m=\u001b[0m \u001b[0;36m500\u001b[0m\u001b[0;34m\u001b[0m\u001b[0;34m\u001b[0m\u001b[0m\n\u001b[0;32m----> 3\u001b[0;31m \u001b[0mlosses\u001b[0m \u001b[0;34m=\u001b[0m \u001b[0mmodel\u001b[0m\u001b[0;34m.\u001b[0m\u001b[0mtrain\u001b[0m\u001b[0;34m(\u001b[0m\u001b[0mnum_epochs\u001b[0m \u001b[0;34m=\u001b[0m \u001b[0mEPOCHS\u001b[0m\u001b[0;34m,\u001b[0m \u001b[0moptimizer\u001b[0m \u001b[0;34m=\u001b[0m \u001b[0moptimizer\u001b[0m\u001b[0;34m,\u001b[0m \u001b[0mdevice\u001b[0m\u001b[0;34m=\u001b[0m\u001b[0mdevice\u001b[0m\u001b[0;34m,\u001b[0m \u001b[0mepoch_to_stop\u001b[0m\u001b[0;34m=\u001b[0m\u001b[0;36m2\u001b[0m\u001b[0;34m)\u001b[0m\u001b[0;34m\u001b[0m\u001b[0;34m\u001b[0m\u001b[0m\n\u001b[0m",
            "\u001b[0;32m<ipython-input-4-69253dd3c0ea>\u001b[0m in \u001b[0;36mtrain\u001b[0;34m(self, num_epochs, optimizer, device, epoch_to_stop)\u001b[0m\n\u001b[1;32m    102\u001b[0m                 \u001b[0mdata\u001b[0m \u001b[0;34m=\u001b[0m \u001b[0mself\u001b[0m\u001b[0;34m.\u001b[0m\u001b[0mgen_batch\u001b[0m\u001b[0;34m(\u001b[0m\u001b[0mdevice\u001b[0m\u001b[0;34m)\u001b[0m\u001b[0;34m\u001b[0m\u001b[0;34m\u001b[0m\u001b[0m\n\u001b[1;32m    103\u001b[0m                 \u001b[0mloss\u001b[0m \u001b[0;34m=\u001b[0m \u001b[0mself\u001b[0m\u001b[0;34m.\u001b[0m\u001b[0m__call__\u001b[0m\u001b[0;34m(\u001b[0m\u001b[0;34m*\u001b[0m\u001b[0mdata\u001b[0m\u001b[0;34m)\u001b[0m\u001b[0;34m\u001b[0m\u001b[0;34m\u001b[0m\u001b[0m\n\u001b[0;32m--> 104\u001b[0;31m                 \u001b[0mloss\u001b[0m\u001b[0;34m.\u001b[0m\u001b[0mbackward\u001b[0m\u001b[0;34m(\u001b[0m\u001b[0;34m)\u001b[0m\u001b[0;34m\u001b[0m\u001b[0;34m\u001b[0m\u001b[0m\n\u001b[0m\u001b[1;32m    105\u001b[0m                 \u001b[0moptimizer\u001b[0m\u001b[0;34m.\u001b[0m\u001b[0mstep\u001b[0m\u001b[0;34m(\u001b[0m\u001b[0;34m)\u001b[0m\u001b[0;34m\u001b[0m\u001b[0;34m\u001b[0m\u001b[0m\n\u001b[1;32m    106\u001b[0m                 \u001b[0mtotal_loss\u001b[0m \u001b[0;34m+=\u001b[0m \u001b[0mloss\u001b[0m\u001b[0;34m.\u001b[0m\u001b[0mitem\u001b[0m\u001b[0;34m(\u001b[0m\u001b[0;34m)\u001b[0m\u001b[0;34m\u001b[0m\u001b[0;34m\u001b[0m\u001b[0m\n",
            "\u001b[0;32m/usr/local/lib/python3.7/dist-packages/torch/tensor.py\u001b[0m in \u001b[0;36mbackward\u001b[0;34m(self, gradient, retain_graph, create_graph, inputs)\u001b[0m\n\u001b[1;32m    243\u001b[0m                 \u001b[0mcreate_graph\u001b[0m\u001b[0;34m=\u001b[0m\u001b[0mcreate_graph\u001b[0m\u001b[0;34m,\u001b[0m\u001b[0;34m\u001b[0m\u001b[0;34m\u001b[0m\u001b[0m\n\u001b[1;32m    244\u001b[0m                 inputs=inputs)\n\u001b[0;32m--> 245\u001b[0;31m         \u001b[0mtorch\u001b[0m\u001b[0;34m.\u001b[0m\u001b[0mautograd\u001b[0m\u001b[0;34m.\u001b[0m\u001b[0mbackward\u001b[0m\u001b[0;34m(\u001b[0m\u001b[0mself\u001b[0m\u001b[0;34m,\u001b[0m \u001b[0mgradient\u001b[0m\u001b[0;34m,\u001b[0m \u001b[0mretain_graph\u001b[0m\u001b[0;34m,\u001b[0m \u001b[0mcreate_graph\u001b[0m\u001b[0;34m,\u001b[0m \u001b[0minputs\u001b[0m\u001b[0;34m=\u001b[0m\u001b[0minputs\u001b[0m\u001b[0;34m)\u001b[0m\u001b[0;34m\u001b[0m\u001b[0;34m\u001b[0m\u001b[0m\n\u001b[0m\u001b[1;32m    246\u001b[0m \u001b[0;34m\u001b[0m\u001b[0m\n\u001b[1;32m    247\u001b[0m     \u001b[0;32mdef\u001b[0m \u001b[0mregister_hook\u001b[0m\u001b[0;34m(\u001b[0m\u001b[0mself\u001b[0m\u001b[0;34m,\u001b[0m \u001b[0mhook\u001b[0m\u001b[0;34m)\u001b[0m\u001b[0;34m:\u001b[0m\u001b[0;34m\u001b[0m\u001b[0;34m\u001b[0m\u001b[0m\n",
            "\u001b[0;32m/usr/local/lib/python3.7/dist-packages/torch/autograd/__init__.py\u001b[0m in \u001b[0;36mbackward\u001b[0;34m(tensors, grad_tensors, retain_graph, create_graph, grad_variables, inputs)\u001b[0m\n\u001b[1;32m    145\u001b[0m     Variable._execution_engine.run_backward(\n\u001b[1;32m    146\u001b[0m         \u001b[0mtensors\u001b[0m\u001b[0;34m,\u001b[0m \u001b[0mgrad_tensors_\u001b[0m\u001b[0;34m,\u001b[0m \u001b[0mretain_graph\u001b[0m\u001b[0;34m,\u001b[0m \u001b[0mcreate_graph\u001b[0m\u001b[0;34m,\u001b[0m \u001b[0minputs\u001b[0m\u001b[0;34m,\u001b[0m\u001b[0;34m\u001b[0m\u001b[0;34m\u001b[0m\u001b[0m\n\u001b[0;32m--> 147\u001b[0;31m         allow_unreachable=True, accumulate_grad=True)  # allow_unreachable flag\n\u001b[0m\u001b[1;32m    148\u001b[0m \u001b[0;34m\u001b[0m\u001b[0m\n\u001b[1;32m    149\u001b[0m \u001b[0;34m\u001b[0m\u001b[0m\n",
            "\u001b[0;31mKeyboardInterrupt\u001b[0m: "
          ]
        }
      ]
    },
    {
      "cell_type": "code",
      "metadata": {
        "id": "MB5CPuiH9e-F"
      },
      "source": [
        "vocab = model.ix_to_word.values()\n",
        "with open('/content/drive/MyDrive/Double-Hard Debias/Data/word_vectors.txt', \"w\") as f :\n",
        "  for word in vocab:\n",
        "    word_plus_vector = word + str(np.array(model.predict(word))).replace(\"\\n\",\"\").replace('[[',' ').replace(']]','') + '\\n'\n",
        "    f.writelines(word_plus_vector)"
      ],
      "execution_count": null,
      "outputs": []
    },
    {
      "cell_type": "code",
      "metadata": {
        "id": "wqOo7KLRwNei"
      },
      "source": [
        "plot_loss_fn(losses, \"GloVe loss function\")"
      ],
      "execution_count": null,
      "outputs": []
    },
    {
      "cell_type": "code",
      "metadata": {
        "colab": {
          "base_uri": "https://localhost:8080/"
        },
        "id": "rBilTkO7r2xr",
        "outputId": "6628488a-a9eb-423f-eca8-6b116a8a40b1"
      },
      "source": [
        "sentence = \"unk1 Hello world unk2\"\n",
        "vec = model.predict(sentence)\n",
        "print(vec.shape)\n",
        "vec"
      ],
      "execution_count": null,
      "outputs": [
        {
          "output_type": "stream",
          "text": [
            "torch.Size([4, 300])\n"
          ],
          "name": "stdout"
        },
        {
          "output_type": "execute_result",
          "data": {
            "text/plain": [
              "tensor([[ 0.1652,  0.4124, -0.0533,  ...,  0.7300,  0.5054,  0.0919],\n",
              "        [-0.0903,  0.0365,  0.0598,  ..., -0.1756,  0.2160, -0.2083],\n",
              "        [-0.1334, -0.1713,  0.3106,  ..., -0.4079, -0.3367, -0.2356],\n",
              "        [ 0.1652,  0.4124, -0.0533,  ...,  0.7300,  0.5054,  0.0919]])"
            ]
          },
          "metadata": {
            "tags": []
          },
          "execution_count": 18
        }
      ]
    },
    {
      "cell_type": "code",
      "metadata": {
        "id": "JGvvxTmfwdGo",
        "colab": {
          "base_uri": "https://localhost:8080/"
        },
        "outputId": "05c0f20e-3218-4e84-a9a0-07b026bbaa07"
      },
      "source": [
        "word = \"time\"\n",
        "vector = get_word(model, word)\n",
        "vector"
      ],
      "execution_count": null,
      "outputs": [
        {
          "output_type": "execute_result",
          "data": {
            "text/plain": [
              "tensor([ 5.2096e-01,  3.5153e-01, -5.3179e-01, -9.1568e-01, -3.5364e-01,\n",
              "        -2.9144e-03, -3.0430e-01,  2.2622e-01, -2.9018e-01, -1.8524e-01,\n",
              "        -1.2570e-01,  2.8921e-01,  2.0774e-01, -5.1324e-01,  6.9231e-01,\n",
              "        -3.1850e-01, -1.7689e-02,  3.3147e-01, -1.9565e-01,  4.7917e-01,\n",
              "         2.5964e-01,  4.4171e-01, -4.4207e-01, -5.9393e-01, -4.2564e-01,\n",
              "         6.9123e-01,  7.2504e-01,  3.4526e-01, -2.9906e-01, -6.7620e-01,\n",
              "         3.5773e-01, -5.0644e-01, -1.3552e-01, -3.0241e-01,  1.9029e-01,\n",
              "         2.3181e-01, -1.6548e-01,  5.4032e-01,  2.5939e-01,  2.7413e-01,\n",
              "         2.0225e-02,  3.0809e-01, -5.6601e-01,  1.1594e-01, -1.0005e-01,\n",
              "        -8.8472e-02, -8.0537e-02,  2.6774e-01, -8.5681e-02,  5.6047e-01,\n",
              "        -2.6510e-01,  4.8075e-01,  5.1526e-01,  7.4535e-02, -3.4520e-01,\n",
              "         2.6178e-01,  6.5890e-01,  5.8222e-01, -6.2116e-01,  1.4590e-01,\n",
              "         1.8506e-01, -3.8849e-01, -5.3514e-01, -1.3505e-01, -2.4475e-01,\n",
              "         7.0455e-02, -5.8396e-02,  7.9866e-02,  5.6146e-01, -8.7418e-02,\n",
              "         4.2068e-01, -3.6224e-01, -1.4311e-01, -1.0142e-01,  7.8043e-02,\n",
              "         1.6653e-02,  1.0107e-01, -2.6419e-01, -3.0326e-01, -7.3831e-02,\n",
              "         3.3808e-01,  5.7631e-01,  6.6180e-01,  1.0180e+00, -6.3577e-01,\n",
              "         6.2374e-01,  4.4536e-01,  4.0784e-01, -7.8763e-01,  2.6355e-01,\n",
              "         2.5705e-01,  4.9517e-01, -1.2673e+00,  4.9546e-01, -1.6736e-01,\n",
              "        -3.3837e-01, -3.9215e-01, -8.7841e-01,  5.0894e-01,  4.1163e-01,\n",
              "         1.4132e-01,  3.4460e-01, -5.8666e-02, -3.9731e-02,  4.5409e-01,\n",
              "         4.3009e-01,  4.1084e-01,  3.0539e-01, -3.7011e-01, -8.2321e-02,\n",
              "        -1.3133e-01,  3.2487e-01,  2.9187e-01, -4.1512e-01, -3.4535e-01,\n",
              "         5.0454e-03,  5.5349e-03,  1.3584e-01,  3.0265e-01, -4.8290e-01,\n",
              "         1.5923e-01,  5.5814e-01, -1.4992e-01,  7.6633e-02,  7.1847e-01,\n",
              "        -1.9644e-01,  1.2063e-01,  4.7882e-01,  1.4115e-01,  6.2856e-01,\n",
              "         4.9685e-01, -4.5462e-02, -1.4551e-01, -9.9586e-02, -2.4013e-02,\n",
              "         3.1782e-02, -1.5903e-01,  1.0350e-01, -3.3700e-02,  1.0026e-01,\n",
              "         5.9541e-01, -5.6021e-02,  6.8606e-01, -1.1429e-01, -3.1220e-01,\n",
              "        -3.1871e-01,  1.0845e-01,  1.6573e-01, -8.0374e-01,  3.3237e-01,\n",
              "         4.9936e-01, -3.4477e-01,  3.8575e-02,  8.7355e-01,  8.0276e-01,\n",
              "        -6.8792e-01, -8.8484e-01, -4.3289e-01, -3.0281e-01, -1.9484e-01,\n",
              "         7.4293e-02, -5.2071e-01, -2.0666e-01, -2.8312e-01, -2.0897e-01,\n",
              "         8.2552e-05, -8.8893e-01, -9.0747e-02,  5.6339e-01, -6.2325e-01,\n",
              "         1.5150e-01,  3.5671e-01,  5.4862e-01,  2.2233e-01, -5.3713e-01,\n",
              "        -5.9780e-02, -3.6025e-01, -8.1324e-03,  4.6395e-01,  5.9004e-01,\n",
              "        -4.1774e-02,  3.0747e-01, -5.5033e-01, -3.2134e-02,  2.4612e-01,\n",
              "        -5.2026e-01,  8.4836e-01,  4.0479e-01,  1.4917e-01,  1.1703e-01,\n",
              "         2.3203e-01,  3.2005e-02,  2.3044e-01, -1.3120e-01, -5.5481e-01,\n",
              "        -3.8011e-01, -3.1342e-01, -2.8539e-01,  6.0874e-01, -2.6575e-01,\n",
              "        -8.2894e-01, -2.6552e-01,  1.5649e-01,  4.9031e-02, -7.3627e-02,\n",
              "        -5.6004e-01,  1.0322e-02,  3.6584e-01, -6.4605e-02,  3.0119e-01,\n",
              "        -2.5888e-01, -6.3211e-01,  4.5818e-01,  1.0279e+00, -3.3026e-01,\n",
              "        -4.8747e-01,  7.8777e-01,  2.1421e-01, -9.4455e-02, -2.2282e-01,\n",
              "        -2.2433e-03,  4.1473e-01, -6.2692e-01,  8.6450e-02,  2.8562e-01,\n",
              "        -1.6566e-01, -1.5122e-01,  3.8748e-01,  5.9677e-01, -3.6605e-02,\n",
              "         5.0034e-01,  9.7269e-01,  2.8182e-01, -4.8190e-01,  4.2921e-02,\n",
              "         3.9615e-01, -5.6832e-01, -2.3449e-01, -5.0793e-01, -7.5130e-01,\n",
              "         6.1960e-01,  1.0383e-02,  5.1976e-01, -2.8057e-01,  6.1918e-01,\n",
              "        -3.3270e-01,  7.8128e-02,  1.3636e-01,  7.8884e-01, -5.7617e-01,\n",
              "        -1.0565e-02,  3.2510e-01,  5.7209e-01, -9.2101e-02, -4.6602e-01,\n",
              "         4.3148e-01, -1.9973e-01, -3.3932e-01, -3.8487e-01, -7.2611e-01,\n",
              "        -4.3398e-01, -6.2328e-01, -1.5023e-01, -6.0152e-01,  2.8852e-01,\n",
              "        -4.8019e-02,  3.8226e-01, -1.3228e-03, -5.7460e-01, -1.1281e-01,\n",
              "        -3.9724e-01, -5.8793e-01,  3.4834e-01, -2.1615e-01,  9.4712e-04,\n",
              "         9.4342e-01, -2.5497e-01,  3.7154e-01,  1.0083e-01, -1.8978e-01,\n",
              "        -3.0355e-01,  3.3989e-01, -3.9255e-01,  6.8983e-02,  2.9877e-01,\n",
              "         1.6237e-01,  5.4668e-01,  2.1630e-01,  4.1098e-02,  2.8754e-01,\n",
              "         7.4775e-01,  1.0170e-01,  5.7706e-02,  1.7055e-01, -3.1393e-01,\n",
              "        -2.6263e-01,  1.7846e-01, -3.0834e-01, -1.8414e-02, -1.9593e-01])"
            ]
          },
          "metadata": {
            "tags": []
          },
          "execution_count": 19
        }
      ]
    },
    {
      "cell_type": "code",
      "metadata": {
        "colab": {
          "base_uri": "https://localhost:8080/"
        },
        "id": "pk3VHO3EzLQ5",
        "outputId": "b62d93c0-db23-4552-e4a3-b75f4bf5196c"
      },
      "source": [
        "closest(model, vector)"
      ],
      "execution_count": null,
      "outputs": [
        {
          "output_type": "execute_result",
          "data": {
            "text/plain": [
              "[('time', tensor(0.)),\n",
              " ('great', tensor(8.3682)),\n",
              " ('oooo', tensor(8.3820)),\n",
              " ('walked', tensor(8.4507)),\n",
              " ('lunacy', tensor(8.4614)),\n",
              " ('methodist', tensor(8.4732)),\n",
              " ('parent', tensor(8.4764)),\n",
              " ('darlin', tensor(8.4806)),\n",
              " ('nonsensical', tensor(8.5279)),\n",
              " ('listed', tensor(8.5558))]"
            ]
          },
          "metadata": {
            "tags": []
          },
          "execution_count": 20
        }
      ]
    },
    {
      "cell_type": "code",
      "metadata": {
        "colab": {
          "base_uri": "https://localhost:8080/"
        },
        "id": "TZC_6TZzzvhF",
        "outputId": "94bbfdc6-1f5a-4b3b-e316-1d7cfee69269"
      },
      "source": [
        "analogy(model, \"when\", \"time\", \"who\")"
      ],
      "execution_count": null,
      "outputs": [
        {
          "output_type": "stream",
          "text": [
            "\n",
            "[when : time :: who : ?]\n",
            "(12.7428) nonsensical\n",
            "(12.8563) uranium\n",
            "(12.8811) hong\n",
            "(12.8869) imbecilic\n",
            "(12.9369) postings\n"
          ],
          "name": "stdout"
        }
      ]
    },
    {
      "cell_type": "markdown",
      "metadata": {
        "id": "rAo_z7HE71Z5"
      },
      "source": [
        "* GloVe: Global Vectors for Word Representation \\\n",
        "Jeffrey Pennington, Richard Socher, Christopher Manning \\\n",
        "https://www.aclweb.org/anthology/D14-1162/\n",
        "* http://www.foldl.me/2014/glove-python/\n",
        "* https://github.com/balazs-vida/glove-pytorch\n",
        "* https://github.com/spro/practical-pytorch/blob/master/glove-word-vectors/glove-word-vectors.ipynb"
      ]
    }
  ]
}